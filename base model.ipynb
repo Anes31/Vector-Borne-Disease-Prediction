{
 "cells": [
  {
   "cell_type": "code",
   "execution_count": 1,
   "id": "21278120-7f61-45fa-9afe-2b0505420146",
   "metadata": {},
   "outputs": [],
   "source": [
    "import pandas as pd\n",
    "import numpy as np\n",
    "\n",
    "import matplotlib.pyplot as plt\n",
    "import seaborn as sns\n",
    "\n",
    "from sklearn.model_selection import cross_val_score, RepeatedStratifiedKFold, train_test_split\n",
    "from sklearn.preprocessing import StandardScaler, LabelEncoder\n",
    "from sklearn.ensemble import RandomForestClassifier\n",
    "from sklearn.decomposition import PCA, NMF\n",
    "from sklearn.manifold import TSNE\n",
    "\n",
    "from umap import UMAP"
   ]
  },
  {
   "cell_type": "markdown",
   "id": "1fa67a04-088b-4b4d-8815-36f6f666e0d6",
   "metadata": {},
   "source": [
    "# Load data"
   ]
  },
  {
   "cell_type": "code",
   "execution_count": 2,
   "id": "fba91969-ff40-4993-a22c-1f096d18eb93",
   "metadata": {},
   "outputs": [],
   "source": [
    "train = pd.read_csv('train.csv', index_col='id')\n",
    "original = pd.read_csv('original.csv')\n",
    "test = pd.read_csv('test.csv', index_col='id')"
   ]
  },
  {
   "cell_type": "markdown",
   "id": "71ebc26a-233a-4840-9f27-b8fd01f96eee",
   "metadata": {},
   "source": [
    "# Brief EDA"
   ]
  },
  {
   "cell_type": "code",
   "execution_count": 3,
   "id": "d838e979-7e1b-498f-97b8-c2fb0f0232bb",
   "metadata": {},
   "outputs": [
    {
     "data": {
      "text/plain": [
       "(252, 65)"
      ]
     },
     "execution_count": 3,
     "metadata": {},
     "output_type": "execute_result"
    }
   ],
   "source": [
    "original.shape"
   ]
  },
  {
   "cell_type": "code",
   "execution_count": 4,
   "id": "8b5f9e41-7c54-4bf1-951f-4a53d7859185",
   "metadata": {},
   "outputs": [
    {
     "data": {
      "text/plain": [
       "(707, 65)"
      ]
     },
     "execution_count": 4,
     "metadata": {},
     "output_type": "execute_result"
    }
   ],
   "source": [
    "train.shape"
   ]
  },
  {
   "cell_type": "code",
   "execution_count": 5,
   "id": "2a42e4a9-dba1-43b7-90e0-351baa129104",
   "metadata": {},
   "outputs": [
    {
     "data": {
      "text/plain": [
       "(303, 64)"
      ]
     },
     "execution_count": 5,
     "metadata": {},
     "output_type": "execute_result"
    }
   ],
   "source": [
    "test.shape"
   ]
  },
  {
   "cell_type": "code",
   "execution_count": 6,
   "id": "981c2e0b-65fc-4a80-9cec-8c8ee6400ebc",
   "metadata": {},
   "outputs": [
    {
     "data": {
      "text/html": [
       "<div>\n",
       "<style scoped>\n",
       "    .dataframe tbody tr th:only-of-type {\n",
       "        vertical-align: middle;\n",
       "    }\n",
       "\n",
       "    .dataframe tbody tr th {\n",
       "        vertical-align: top;\n",
       "    }\n",
       "\n",
       "    .dataframe thead th {\n",
       "        text-align: right;\n",
       "    }\n",
       "</style>\n",
       "<table border=\"1\" class=\"dataframe\">\n",
       "  <thead>\n",
       "    <tr style=\"text-align: right;\">\n",
       "      <th></th>\n",
       "      <th>sudden_fever</th>\n",
       "      <th>headache</th>\n",
       "      <th>mouth_bleed</th>\n",
       "      <th>nose_bleed</th>\n",
       "      <th>muscle_pain</th>\n",
       "      <th>joint_pain</th>\n",
       "      <th>vomiting</th>\n",
       "      <th>rash</th>\n",
       "      <th>diarrhea</th>\n",
       "      <th>hypotension</th>\n",
       "      <th>...</th>\n",
       "      <th>lymph_swells</th>\n",
       "      <th>breathing_restriction</th>\n",
       "      <th>toe_inflammation</th>\n",
       "      <th>finger_inflammation</th>\n",
       "      <th>lips_irritation</th>\n",
       "      <th>itchiness</th>\n",
       "      <th>ulcers</th>\n",
       "      <th>toenail_loss</th>\n",
       "      <th>speech_problem</th>\n",
       "      <th>bullseye_rash</th>\n",
       "    </tr>\n",
       "  </thead>\n",
       "  <tbody>\n",
       "    <tr>\n",
       "      <th>count</th>\n",
       "      <td>707.000000</td>\n",
       "      <td>707.000000</td>\n",
       "      <td>707.000000</td>\n",
       "      <td>707.000000</td>\n",
       "      <td>707.000000</td>\n",
       "      <td>707.000000</td>\n",
       "      <td>707.000000</td>\n",
       "      <td>707.000000</td>\n",
       "      <td>707.000000</td>\n",
       "      <td>707.000000</td>\n",
       "      <td>...</td>\n",
       "      <td>707.000000</td>\n",
       "      <td>707.000000</td>\n",
       "      <td>707.000000</td>\n",
       "      <td>707.000000</td>\n",
       "      <td>707.000000</td>\n",
       "      <td>707.000000</td>\n",
       "      <td>707.000000</td>\n",
       "      <td>707.000000</td>\n",
       "      <td>707.000000</td>\n",
       "      <td>707.000000</td>\n",
       "    </tr>\n",
       "    <tr>\n",
       "      <th>mean</th>\n",
       "      <td>0.503536</td>\n",
       "      <td>0.449788</td>\n",
       "      <td>0.459689</td>\n",
       "      <td>0.487977</td>\n",
       "      <td>0.517680</td>\n",
       "      <td>0.449788</td>\n",
       "      <td>0.441301</td>\n",
       "      <td>0.487977</td>\n",
       "      <td>0.390382</td>\n",
       "      <td>0.393211</td>\n",
       "      <td>...</td>\n",
       "      <td>0.148515</td>\n",
       "      <td>0.072136</td>\n",
       "      <td>0.097595</td>\n",
       "      <td>0.079208</td>\n",
       "      <td>0.084866</td>\n",
       "      <td>0.154173</td>\n",
       "      <td>0.144272</td>\n",
       "      <td>0.137199</td>\n",
       "      <td>0.032532</td>\n",
       "      <td>0.031117</td>\n",
       "    </tr>\n",
       "    <tr>\n",
       "      <th>std</th>\n",
       "      <td>0.500341</td>\n",
       "      <td>0.497825</td>\n",
       "      <td>0.498725</td>\n",
       "      <td>0.500209</td>\n",
       "      <td>0.500041</td>\n",
       "      <td>0.497825</td>\n",
       "      <td>0.496894</td>\n",
       "      <td>0.500209</td>\n",
       "      <td>0.488181</td>\n",
       "      <td>0.488809</td>\n",
       "      <td>...</td>\n",
       "      <td>0.355861</td>\n",
       "      <td>0.258896</td>\n",
       "      <td>0.296977</td>\n",
       "      <td>0.270254</td>\n",
       "      <td>0.278879</td>\n",
       "      <td>0.361370</td>\n",
       "      <td>0.351614</td>\n",
       "      <td>0.344301</td>\n",
       "      <td>0.177533</td>\n",
       "      <td>0.173758</td>\n",
       "    </tr>\n",
       "    <tr>\n",
       "      <th>min</th>\n",
       "      <td>0.000000</td>\n",
       "      <td>0.000000</td>\n",
       "      <td>0.000000</td>\n",
       "      <td>0.000000</td>\n",
       "      <td>0.000000</td>\n",
       "      <td>0.000000</td>\n",
       "      <td>0.000000</td>\n",
       "      <td>0.000000</td>\n",
       "      <td>0.000000</td>\n",
       "      <td>0.000000</td>\n",
       "      <td>...</td>\n",
       "      <td>0.000000</td>\n",
       "      <td>0.000000</td>\n",
       "      <td>0.000000</td>\n",
       "      <td>0.000000</td>\n",
       "      <td>0.000000</td>\n",
       "      <td>0.000000</td>\n",
       "      <td>0.000000</td>\n",
       "      <td>0.000000</td>\n",
       "      <td>0.000000</td>\n",
       "      <td>0.000000</td>\n",
       "    </tr>\n",
       "    <tr>\n",
       "      <th>25%</th>\n",
       "      <td>0.000000</td>\n",
       "      <td>0.000000</td>\n",
       "      <td>0.000000</td>\n",
       "      <td>0.000000</td>\n",
       "      <td>0.000000</td>\n",
       "      <td>0.000000</td>\n",
       "      <td>0.000000</td>\n",
       "      <td>0.000000</td>\n",
       "      <td>0.000000</td>\n",
       "      <td>0.000000</td>\n",
       "      <td>...</td>\n",
       "      <td>0.000000</td>\n",
       "      <td>0.000000</td>\n",
       "      <td>0.000000</td>\n",
       "      <td>0.000000</td>\n",
       "      <td>0.000000</td>\n",
       "      <td>0.000000</td>\n",
       "      <td>0.000000</td>\n",
       "      <td>0.000000</td>\n",
       "      <td>0.000000</td>\n",
       "      <td>0.000000</td>\n",
       "    </tr>\n",
       "    <tr>\n",
       "      <th>50%</th>\n",
       "      <td>1.000000</td>\n",
       "      <td>0.000000</td>\n",
       "      <td>0.000000</td>\n",
       "      <td>0.000000</td>\n",
       "      <td>1.000000</td>\n",
       "      <td>0.000000</td>\n",
       "      <td>0.000000</td>\n",
       "      <td>0.000000</td>\n",
       "      <td>0.000000</td>\n",
       "      <td>0.000000</td>\n",
       "      <td>...</td>\n",
       "      <td>0.000000</td>\n",
       "      <td>0.000000</td>\n",
       "      <td>0.000000</td>\n",
       "      <td>0.000000</td>\n",
       "      <td>0.000000</td>\n",
       "      <td>0.000000</td>\n",
       "      <td>0.000000</td>\n",
       "      <td>0.000000</td>\n",
       "      <td>0.000000</td>\n",
       "      <td>0.000000</td>\n",
       "    </tr>\n",
       "    <tr>\n",
       "      <th>75%</th>\n",
       "      <td>1.000000</td>\n",
       "      <td>1.000000</td>\n",
       "      <td>1.000000</td>\n",
       "      <td>1.000000</td>\n",
       "      <td>1.000000</td>\n",
       "      <td>1.000000</td>\n",
       "      <td>1.000000</td>\n",
       "      <td>1.000000</td>\n",
       "      <td>1.000000</td>\n",
       "      <td>1.000000</td>\n",
       "      <td>...</td>\n",
       "      <td>0.000000</td>\n",
       "      <td>0.000000</td>\n",
       "      <td>0.000000</td>\n",
       "      <td>0.000000</td>\n",
       "      <td>0.000000</td>\n",
       "      <td>0.000000</td>\n",
       "      <td>0.000000</td>\n",
       "      <td>0.000000</td>\n",
       "      <td>0.000000</td>\n",
       "      <td>0.000000</td>\n",
       "    </tr>\n",
       "    <tr>\n",
       "      <th>max</th>\n",
       "      <td>1.000000</td>\n",
       "      <td>1.000000</td>\n",
       "      <td>1.000000</td>\n",
       "      <td>1.000000</td>\n",
       "      <td>1.000000</td>\n",
       "      <td>1.000000</td>\n",
       "      <td>1.000000</td>\n",
       "      <td>1.000000</td>\n",
       "      <td>1.000000</td>\n",
       "      <td>1.000000</td>\n",
       "      <td>...</td>\n",
       "      <td>1.000000</td>\n",
       "      <td>1.000000</td>\n",
       "      <td>1.000000</td>\n",
       "      <td>1.000000</td>\n",
       "      <td>1.000000</td>\n",
       "      <td>1.000000</td>\n",
       "      <td>1.000000</td>\n",
       "      <td>1.000000</td>\n",
       "      <td>1.000000</td>\n",
       "      <td>1.000000</td>\n",
       "    </tr>\n",
       "  </tbody>\n",
       "</table>\n",
       "<p>8 rows × 64 columns</p>\n",
       "</div>"
      ],
      "text/plain": [
       "       sudden_fever    headache  mouth_bleed  nose_bleed  muscle_pain  \\\n",
       "count    707.000000  707.000000   707.000000  707.000000   707.000000   \n",
       "mean       0.503536    0.449788     0.459689    0.487977     0.517680   \n",
       "std        0.500341    0.497825     0.498725    0.500209     0.500041   \n",
       "min        0.000000    0.000000     0.000000    0.000000     0.000000   \n",
       "25%        0.000000    0.000000     0.000000    0.000000     0.000000   \n",
       "50%        1.000000    0.000000     0.000000    0.000000     1.000000   \n",
       "75%        1.000000    1.000000     1.000000    1.000000     1.000000   \n",
       "max        1.000000    1.000000     1.000000    1.000000     1.000000   \n",
       "\n",
       "       joint_pain    vomiting        rash    diarrhea  hypotension  ...  \\\n",
       "count  707.000000  707.000000  707.000000  707.000000   707.000000  ...   \n",
       "mean     0.449788    0.441301    0.487977    0.390382     0.393211  ...   \n",
       "std      0.497825    0.496894    0.500209    0.488181     0.488809  ...   \n",
       "min      0.000000    0.000000    0.000000    0.000000     0.000000  ...   \n",
       "25%      0.000000    0.000000    0.000000    0.000000     0.000000  ...   \n",
       "50%      0.000000    0.000000    0.000000    0.000000     0.000000  ...   \n",
       "75%      1.000000    1.000000    1.000000    1.000000     1.000000  ...   \n",
       "max      1.000000    1.000000    1.000000    1.000000     1.000000  ...   \n",
       "\n",
       "       lymph_swells  breathing_restriction  toe_inflammation  \\\n",
       "count    707.000000             707.000000        707.000000   \n",
       "mean       0.148515               0.072136          0.097595   \n",
       "std        0.355861               0.258896          0.296977   \n",
       "min        0.000000               0.000000          0.000000   \n",
       "25%        0.000000               0.000000          0.000000   \n",
       "50%        0.000000               0.000000          0.000000   \n",
       "75%        0.000000               0.000000          0.000000   \n",
       "max        1.000000               1.000000          1.000000   \n",
       "\n",
       "       finger_inflammation  lips_irritation   itchiness      ulcers  \\\n",
       "count           707.000000       707.000000  707.000000  707.000000   \n",
       "mean              0.079208         0.084866    0.154173    0.144272   \n",
       "std               0.270254         0.278879    0.361370    0.351614   \n",
       "min               0.000000         0.000000    0.000000    0.000000   \n",
       "25%               0.000000         0.000000    0.000000    0.000000   \n",
       "50%               0.000000         0.000000    0.000000    0.000000   \n",
       "75%               0.000000         0.000000    0.000000    0.000000   \n",
       "max               1.000000         1.000000    1.000000    1.000000   \n",
       "\n",
       "       toenail_loss  speech_problem  bullseye_rash  \n",
       "count    707.000000      707.000000     707.000000  \n",
       "mean       0.137199        0.032532       0.031117  \n",
       "std        0.344301        0.177533       0.173758  \n",
       "min        0.000000        0.000000       0.000000  \n",
       "25%        0.000000        0.000000       0.000000  \n",
       "50%        0.000000        0.000000       0.000000  \n",
       "75%        0.000000        0.000000       0.000000  \n",
       "max        1.000000        1.000000       1.000000  \n",
       "\n",
       "[8 rows x 64 columns]"
      ]
     },
     "execution_count": 6,
     "metadata": {},
     "output_type": "execute_result"
    }
   ],
   "source": [
    "train.describe()"
   ]
  },
  {
   "cell_type": "code",
   "execution_count": 7,
   "id": "629295b5-c1e3-4884-ac88-eb65640db0ba",
   "metadata": {},
   "outputs": [
    {
     "data": {
      "text/html": [
       "<div>\n",
       "<style scoped>\n",
       "    .dataframe tbody tr th:only-of-type {\n",
       "        vertical-align: middle;\n",
       "    }\n",
       "\n",
       "    .dataframe tbody tr th {\n",
       "        vertical-align: top;\n",
       "    }\n",
       "\n",
       "    .dataframe thead th {\n",
       "        text-align: right;\n",
       "    }\n",
       "</style>\n",
       "<table border=\"1\" class=\"dataframe\">\n",
       "  <thead>\n",
       "    <tr style=\"text-align: right;\">\n",
       "      <th></th>\n",
       "      <th>sudden_fever</th>\n",
       "      <th>headache</th>\n",
       "      <th>mouth_bleed</th>\n",
       "      <th>nose_bleed</th>\n",
       "      <th>muscle_pain</th>\n",
       "      <th>joint_pain</th>\n",
       "      <th>vomiting</th>\n",
       "      <th>rash</th>\n",
       "      <th>diarrhea</th>\n",
       "      <th>hypotension</th>\n",
       "      <th>...</th>\n",
       "      <th>breathing_restriction</th>\n",
       "      <th>toe_inflammation</th>\n",
       "      <th>finger_inflammation</th>\n",
       "      <th>lips_irritation</th>\n",
       "      <th>itchiness</th>\n",
       "      <th>ulcers</th>\n",
       "      <th>toenail_loss</th>\n",
       "      <th>speech_problem</th>\n",
       "      <th>bullseye_rash</th>\n",
       "      <th>prognosis</th>\n",
       "    </tr>\n",
       "    <tr>\n",
       "      <th>id</th>\n",
       "      <th></th>\n",
       "      <th></th>\n",
       "      <th></th>\n",
       "      <th></th>\n",
       "      <th></th>\n",
       "      <th></th>\n",
       "      <th></th>\n",
       "      <th></th>\n",
       "      <th></th>\n",
       "      <th></th>\n",
       "      <th></th>\n",
       "      <th></th>\n",
       "      <th></th>\n",
       "      <th></th>\n",
       "      <th></th>\n",
       "      <th></th>\n",
       "      <th></th>\n",
       "      <th></th>\n",
       "      <th></th>\n",
       "      <th></th>\n",
       "      <th></th>\n",
       "    </tr>\n",
       "  </thead>\n",
       "  <tbody>\n",
       "    <tr>\n",
       "      <th>0</th>\n",
       "      <td>1.0</td>\n",
       "      <td>1.0</td>\n",
       "      <td>0.0</td>\n",
       "      <td>1.0</td>\n",
       "      <td>1.0</td>\n",
       "      <td>1.0</td>\n",
       "      <td>1.0</td>\n",
       "      <td>0.0</td>\n",
       "      <td>1.0</td>\n",
       "      <td>1.0</td>\n",
       "      <td>...</td>\n",
       "      <td>0.0</td>\n",
       "      <td>0.0</td>\n",
       "      <td>0.0</td>\n",
       "      <td>0.0</td>\n",
       "      <td>0.0</td>\n",
       "      <td>0.0</td>\n",
       "      <td>0.0</td>\n",
       "      <td>0.0</td>\n",
       "      <td>0.0</td>\n",
       "      <td>Lyme_disease</td>\n",
       "    </tr>\n",
       "    <tr>\n",
       "      <th>1</th>\n",
       "      <td>0.0</td>\n",
       "      <td>0.0</td>\n",
       "      <td>0.0</td>\n",
       "      <td>0.0</td>\n",
       "      <td>0.0</td>\n",
       "      <td>0.0</td>\n",
       "      <td>1.0</td>\n",
       "      <td>0.0</td>\n",
       "      <td>1.0</td>\n",
       "      <td>0.0</td>\n",
       "      <td>...</td>\n",
       "      <td>0.0</td>\n",
       "      <td>0.0</td>\n",
       "      <td>0.0</td>\n",
       "      <td>0.0</td>\n",
       "      <td>0.0</td>\n",
       "      <td>0.0</td>\n",
       "      <td>0.0</td>\n",
       "      <td>0.0</td>\n",
       "      <td>0.0</td>\n",
       "      <td>Tungiasis</td>\n",
       "    </tr>\n",
       "    <tr>\n",
       "      <th>2</th>\n",
       "      <td>0.0</td>\n",
       "      <td>1.0</td>\n",
       "      <td>1.0</td>\n",
       "      <td>1.0</td>\n",
       "      <td>0.0</td>\n",
       "      <td>1.0</td>\n",
       "      <td>1.0</td>\n",
       "      <td>1.0</td>\n",
       "      <td>1.0</td>\n",
       "      <td>1.0</td>\n",
       "      <td>...</td>\n",
       "      <td>1.0</td>\n",
       "      <td>1.0</td>\n",
       "      <td>1.0</td>\n",
       "      <td>1.0</td>\n",
       "      <td>1.0</td>\n",
       "      <td>0.0</td>\n",
       "      <td>1.0</td>\n",
       "      <td>1.0</td>\n",
       "      <td>1.0</td>\n",
       "      <td>Lyme_disease</td>\n",
       "    </tr>\n",
       "    <tr>\n",
       "      <th>3</th>\n",
       "      <td>0.0</td>\n",
       "      <td>0.0</td>\n",
       "      <td>1.0</td>\n",
       "      <td>1.0</td>\n",
       "      <td>1.0</td>\n",
       "      <td>1.0</td>\n",
       "      <td>0.0</td>\n",
       "      <td>1.0</td>\n",
       "      <td>0.0</td>\n",
       "      <td>1.0</td>\n",
       "      <td>...</td>\n",
       "      <td>0.0</td>\n",
       "      <td>0.0</td>\n",
       "      <td>0.0</td>\n",
       "      <td>0.0</td>\n",
       "      <td>0.0</td>\n",
       "      <td>0.0</td>\n",
       "      <td>0.0</td>\n",
       "      <td>0.0</td>\n",
       "      <td>0.0</td>\n",
       "      <td>Zika</td>\n",
       "    </tr>\n",
       "    <tr>\n",
       "      <th>4</th>\n",
       "      <td>0.0</td>\n",
       "      <td>0.0</td>\n",
       "      <td>0.0</td>\n",
       "      <td>0.0</td>\n",
       "      <td>0.0</td>\n",
       "      <td>0.0</td>\n",
       "      <td>0.0</td>\n",
       "      <td>0.0</td>\n",
       "      <td>1.0</td>\n",
       "      <td>0.0</td>\n",
       "      <td>...</td>\n",
       "      <td>0.0</td>\n",
       "      <td>1.0</td>\n",
       "      <td>0.0</td>\n",
       "      <td>0.0</td>\n",
       "      <td>1.0</td>\n",
       "      <td>1.0</td>\n",
       "      <td>1.0</td>\n",
       "      <td>0.0</td>\n",
       "      <td>0.0</td>\n",
       "      <td>Rift_Valley_fever</td>\n",
       "    </tr>\n",
       "  </tbody>\n",
       "</table>\n",
       "<p>5 rows × 65 columns</p>\n",
       "</div>"
      ],
      "text/plain": [
       "    sudden_fever  headache  mouth_bleed  nose_bleed  muscle_pain  joint_pain  \\\n",
       "id                                                                             \n",
       "0            1.0       1.0          0.0         1.0          1.0         1.0   \n",
       "1            0.0       0.0          0.0         0.0          0.0         0.0   \n",
       "2            0.0       1.0          1.0         1.0          0.0         1.0   \n",
       "3            0.0       0.0          1.0         1.0          1.0         1.0   \n",
       "4            0.0       0.0          0.0         0.0          0.0         0.0   \n",
       "\n",
       "    vomiting  rash  diarrhea  hypotension  ...  breathing_restriction  \\\n",
       "id                                         ...                          \n",
       "0        1.0   0.0       1.0          1.0  ...                    0.0   \n",
       "1        1.0   0.0       1.0          0.0  ...                    0.0   \n",
       "2        1.0   1.0       1.0          1.0  ...                    1.0   \n",
       "3        0.0   1.0       0.0          1.0  ...                    0.0   \n",
       "4        0.0   0.0       1.0          0.0  ...                    0.0   \n",
       "\n",
       "    toe_inflammation  finger_inflammation  lips_irritation  itchiness  ulcers  \\\n",
       "id                                                                              \n",
       "0                0.0                  0.0              0.0        0.0     0.0   \n",
       "1                0.0                  0.0              0.0        0.0     0.0   \n",
       "2                1.0                  1.0              1.0        1.0     0.0   \n",
       "3                0.0                  0.0              0.0        0.0     0.0   \n",
       "4                1.0                  0.0              0.0        1.0     1.0   \n",
       "\n",
       "    toenail_loss  speech_problem  bullseye_rash          prognosis  \n",
       "id                                                                  \n",
       "0            0.0             0.0            0.0       Lyme_disease  \n",
       "1            0.0             0.0            0.0          Tungiasis  \n",
       "2            1.0             1.0            1.0       Lyme_disease  \n",
       "3            0.0             0.0            0.0               Zika  \n",
       "4            1.0             0.0            0.0  Rift_Valley_fever  \n",
       "\n",
       "[5 rows x 65 columns]"
      ]
     },
     "execution_count": 7,
     "metadata": {},
     "output_type": "execute_result"
    }
   ],
   "source": [
    "train.head()"
   ]
  },
  {
   "cell_type": "code",
   "execution_count": 8,
   "id": "b6b298b4-d049-4266-a14d-f74dbe454ebc",
   "metadata": {},
   "outputs": [
    {
     "data": {
      "image/png": "[encoded data removed]",
      "text/plain": [
       "<Figure size 640x480 with 1 Axes>"
      ]
     },
     "metadata": {},
     "output_type": "display_data"
    }
   ],
   "source": [
    "ax = sns.barplot(x=train.prognosis.unique(), y=train.prognosis.value_counts())\n",
    "ax.bar_label(ax.containers[0])\n",
    "plt.xticks(rotation=60)\n",
    "plt.ylabel('frequency')\n",
    "plt.title('count of diseases in train data')\n",
    "plt.show()"
   ]
  },
  {
   "cell_type": "markdown",
   "id": "78564948-ae72-4886-915f-a986cd874392",
   "metadata": {},
   "source": [
    "# Combine Train with Original"
   ]
  },
  {
   "cell_type": "code",
   "execution_count": 9,
   "id": "19c8251f-69ff-4a25-9d42-c6a35b99bf1a",
   "metadata": {},
   "outputs": [],
   "source": [
    "original.prognosis = original.prognosis.str.replace(' ', '_')\n",
    "train_final = pd.concat([train, original]).reset_index(drop=True)"
   ]
  },
  {
   "cell_type": "code",
   "execution_count": 10,
   "id": "d5cc30ca-7df5-495b-9ea8-7a67e9a8ab38",
   "metadata": {},
   "outputs": [
    {
     "data": {
      "text/plain": [
       "(959, 65)"
      ]
     },
     "execution_count": 10,
     "metadata": {},
     "output_type": "execute_result"
    }
   ],
   "source": [
    "train_final.shape"
   ]
  },
  {
   "cell_type": "code",
   "execution_count": 11,
   "id": "6a619e12-c46b-4f1f-982c-2fe2dd141fa4",
   "metadata": {},
   "outputs": [
    {
     "data": {
      "image/png": "[encoded data removed]",
      "text/plain": [
       "<Figure size 640x480 with 1 Axes>"
      ]
     },
     "metadata": {},
     "output_type": "display_data"
    }
   ],
   "source": [
    "ax = sns.barplot(x=train_final.prognosis.unique(), y=train_final.prognosis.value_counts())\n",
    "ax.bar_label(ax.containers[0])\n",
    "plt.xticks(rotation=60)\n",
    "plt.ylabel('frequency')\n",
    "plt.title('count of diseases in combined data')\n",
    "plt.show()"
   ]
  },
  {
   "cell_type": "markdown",
   "id": "9ab82a91-8be8-49d3-9313-3bd4788ebbaf",
   "metadata": {},
   "source": [
    "# Split Features And Target"
   ]
  },
  {
   "cell_type": "code",
   "execution_count": 12,
   "id": "74a54335-bf3c-4102-82d9-fa0b99621397",
   "metadata": {},
   "outputs": [],
   "source": [
    "X = train_final.drop('prognosis', axis=1)\n",
    "y = train_final.prognosis"
   ]
  },
  {
   "cell_type": "markdown",
   "id": "e142e675-aa0a-4851-9515-71916c74b148",
   "metadata": {},
   "source": [
    "# Feature Engineering"
   ]
  },
  {
   "cell_type": "code",
   "execution_count": 13,
   "id": "f66bf079-22a0-47ef-b082-5935e331337c",
   "metadata": {},
   "outputs": [],
   "source": [
    "# n_components = 5\n",
    "# pca_column_names = [f\"PCA{i+1}\" for i in range(n_components)]\n",
    "# pca = PCA(n_components=n_components)\n",
    "# pca_features = pd.DataFrame(pca.fit_transform(X), columns=pca_column_names)\n",
    "# X = pd.concat([X, pca_features], axis=1).reset_index(drop=True)"
   ]
  },
  {
   "cell_type": "markdown",
   "id": "3f7a6def-53ba-45b7-a939-d3f968b07338",
   "metadata": {},
   "source": [
    "# Target transformation"
   ]
  },
  {
   "cell_type": "code",
   "execution_count": 14,
   "id": "23d6c825-9947-47dc-8e05-c2e03d14024e",
   "metadata": {},
   "outputs": [],
   "source": [
    "encoder = LabelEncoder()\n",
    "y = encoder.fit_transform(y)"
   ]
  },
  {
   "cell_type": "markdown",
   "id": "f2d7e1b1-e90f-46c3-a429-89c1c6e03fff",
   "metadata": {},
   "source": [
    "# Base Model"
   ]
  },
  {
   "cell_type": "code",
   "execution_count": 15,
   "id": "beb36e2a-879f-42b5-9089-1add94488180",
   "metadata": {},
   "outputs": [],
   "source": [
    "def apk(actual, predicted, k=10):\n",
    "    \"\"\"\n",
    "    Computes the average precision at k.\n",
    "    This function computes the average prescision at k between two lists of\n",
    "    items.\n",
    "    Parameters\n",
    "    ----------\n",
    "    actual : list\n",
    "             A list of elements that are to be predicted (order doesn't matter)\n",
    "    predicted : list\n",
    "                A list of predicted elements (order does matter)\n",
    "    k : int, optional\n",
    "        The maximum number of predicted elements\n",
    "    Returns\n",
    "    -------\n",
    "    score : double\n",
    "            The average precision at k over the input lists\n",
    "    \"\"\"\n",
    "    if not actual:\n",
    "        return 0.0\n",
    "\n",
    "    if len(predicted)>k:\n",
    "        predicted = predicted[:k]\n",
    "\n",
    "    score = 0.0\n",
    "    num_hits = 0.0\n",
    "\n",
    "    for i,p in enumerate(predicted):\n",
    "        # first condition checks whether it is valid prediction\n",
    "        # second condition checks if prediction is not repeated\n",
    "        if p in actual and p not in predicted[:i]:\n",
    "            num_hits += 1.0\n",
    "            score += num_hits / (i+1.0)\n",
    "\n",
    "    return score / min(len(actual), k)\n",
    "\n",
    "def mapk(actual, predicted, k=10):\n",
    "    \"\"\"\n",
    "    Computes the mean average precision at k.\n",
    "    This function computes the mean average prescision at k between two lists\n",
    "    of lists of items.\n",
    "    Parameters\n",
    "    ----------\n",
    "    actual : list\n",
    "             A list of lists of elements that are to be predicted \n",
    "             (order doesn't matter in the lists)\n",
    "    predicted : list\n",
    "                A list of lists of predicted elements\n",
    "                (order matters in the lists)\n",
    "    k : int, optional\n",
    "        The maximum number of predicted elements\n",
    "    Returns\n",
    "    -------\n",
    "    score : double\n",
    "            The mean average precision at k over the input lists\n",
    "    \"\"\"\n",
    "    return np.mean([apk(a,p,k) for a,p in zip(actual, predicted)])"
   ]
  },
  {
   "cell_type": "code",
   "execution_count": 16,
   "id": "f24091c1-eb1e-42ba-b1a3-c24f72f62262",
   "metadata": {},
   "outputs": [
    {
     "name": "stdout",
     "output_type": "stream",
     "text": [
      "MAPK score: 0.46174488304093564\n"
     ]
    }
   ],
   "source": [
    "rf = RandomForestClassifier(random_state=0)\n",
    "\n",
    "results = []\n",
    "\n",
    "rskf = RepeatedStratifiedKFold(n_splits=10, n_repeats=10, random_state=0)\n",
    "\n",
    "for i, (train_index, test_index) in enumerate(rskf.split(X, y)):\n",
    "    X_train, X_test = X.iloc[train_index], X.iloc[test_index]\n",
    "    y_train, y_test = y[train_index], y[test_index]\n",
    "    \n",
    "    rf.fit(X_train, y_train)\n",
    "    y_pred = rf.predict_proba(X_test)\n",
    "    \n",
    "    sorted_pred_idx = np.argsort(-y_pred, axis=1)[:,:3]\n",
    "    original_shape = sorted_pred_idx.shape\n",
    "    top3_pred = encoder.inverse_transform(sorted_pred_idx.reshape(-1,1).ravel())\n",
    "    top3_pred = top3_pred.reshape(original_shape)\n",
    "    results.append(mapk(y_test.reshape(-1, 1), sorted_pred_idx, k=3))\n",
    "    \n",
    "print(f'MAPK score: {np.mean(results)}')"
   ]
  },
  {
   "cell_type": "markdown",
   "id": "afea45ad-1e56-41c8-b682-9aa8d3ba4625",
   "metadata": {},
   "source": [
    "# Prediction"
   ]
  },
  {
   "cell_type": "code",
   "execution_count": null,
   "id": "14e946bf-1732-44eb-878f-a3cadb5558b2",
   "metadata": {},
   "outputs": [],
   "source": [
    "accuracy(y_prediction, y_test)"
   ]
  },
  {
   "cell_type": "code",
   "execution_count": 17,
   "id": "6678b2a4-8c7d-4f17-ab69-1d9e0fab491a",
   "metadata": {},
   "outputs": [],
   "source": [
    "# test_pca_features = pd.DataFrame(pca.transform(test), columns=pca_column_names)\n",
    "# test_final = pd.concat([test.reset_index(drop=True), test_pca_features], axis=1).reset_index(drop=True)"
   ]
  },
  {
   "cell_type": "code",
   "execution_count": 18,
   "id": "6322ff57-cec5-4a77-bfc7-30277027417f",
   "metadata": {},
   "outputs": [],
   "source": [
    "y_pred = rf.predict_proba(test)\n",
    "    \n",
    "sorted_pred_idx = np.argsort(-y_pred, axis=1)[:,:3]\n",
    "original_shape = sorted_pred_idx.shape\n",
    "top3_pred = encoder.inverse_transform(sorted_pred_idx.reshape(-1,1).ravel())\n",
    "top3_pred = top3_pred.reshape(original_shape)"
   ]
  },
  {
   "cell_type": "markdown",
   "id": "a54c1dee-2041-4fb3-9aa9-6204428ccdcd",
   "metadata": {},
   "source": [
    "# Submission"
   ]
  },
  {
   "cell_type": "code",
   "execution_count": 19,
   "id": "2dfa3b3d-72cc-42c9-92ea-f12c5aae9b40",
   "metadata": {},
   "outputs": [],
   "source": [
    "submission = pd.read_csv('sample_submission.csv')\n",
    "submission['prognosis'] = np.apply_along_axis(lambda x: np.array(' '.join(x), dtype=\"object\"), 1, top3_pred)\n",
    "submission.to_csv('submission_base_model_with_original_and_pca.csv', columns=['id', 'prognosis'], index=False)"
   ]
  },
  {
   "cell_type": "code",
   "execution_count": null,
   "id": "c5a6bc35-5471-4827-95d0-93c7930e7f7a",
   "metadata": {},
   "outputs": [],
   "source": []
  }
 ],
 "metadata": {
  "kernelspec": {
   "display_name": "Python 3 (ipykernel)",
   "language": "python",
   "name": "python3"
  },
  "language_info": {
   "codemirror_mode": {
    "name": "ipython",
    "version": 3
   },
   "file_extension": ".py",
   "mimetype": "text/x-python",
   "name": "python",
   "nbconvert_exporter": "python",
   "pygments_lexer": "ipython3",
   "version": "3.7.15"
  }
 },
 "nbformat": 4,
 "nbformat_minor": 5
}
