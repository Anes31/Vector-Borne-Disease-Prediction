{
 "cells": [
  {
   "cell_type": "code",
   "execution_count": 1,
   "id": "f62d0b5e-b652-4d78-b710-cf59fc6240a1",
   "metadata": {},
   "outputs": [],
   "source": [
    "import pandas as pd\n",
    "import numpy as np\n",
    "\n",
    "from sklearn.model_selection import cross_val_score, RepeatedStratifiedKFold\n",
    "from sklearn.preprocessing import StandardScaler, LabelEncoder\n",
    "from sklearn.ensemble import RandomForestClassifier, ExtraTreesClassifier, GradientBoostingClassifier, VotingClassifier\n",
    "from sklearn.linear_model import RidgeClassifier, LogisticRegression\n",
    "from sklearn.calibration import CalibratedClassifierCV\n",
    "from sklearn.discriminant_analysis import LinearDiscriminantAnalysis\n",
    "from sklearn.metrics import make_scorer\n",
    "from sklearn.decomposition import PCA\n",
    "\n",
    "from xgboost import XGBClassifier\n",
    "from lightgbm import LGBMClassifier\n",
    "\n",
    "from pycaret.classification import setup, evaluate_model, compare_models, plot_model, add_metric\n",
    "\n",
    "import optuna"
   ]
  },
  {
   "cell_type": "markdown",
   "id": "1fa67a04-088b-4b4d-8815-36f6f666e0d6",
   "metadata": {},
   "source": [
    "# Load data"
   ]
  },
  {
   "cell_type": "code",
   "execution_count": 2,
   "id": "fba91969-ff40-4993-a22c-1f096d18eb93",
   "metadata": {},
   "outputs": [],
   "source": [
    "train = pd.read_csv('train.csv', index_col='id')\n",
    "original = pd.read_csv('original.csv')\n",
    "test = pd.read_csv('test.csv', index_col='id')"
   ]
  },
  {
   "cell_type": "markdown",
   "id": "c9c35f05-66b3-4ce5-8b80-1772174011a4",
   "metadata": {},
   "source": [
    "# Combine Train with Original"
   ]
  },
  {
   "cell_type": "code",
   "execution_count": 3,
   "id": "6ef6c979-7996-4eb1-bae2-7d4d9570fd85",
   "metadata": {},
   "outputs": [],
   "source": [
    "original.prognosis = original.prognosis.str.replace(' ', '_')\n",
    "train_final = pd.concat([train, original])"
   ]
  },
  {
   "cell_type": "markdown",
   "id": "d431ab19-4149-4b59-952e-3215cc729ad8",
   "metadata": {},
   "source": [
    "# Split Features And Target"
   ]
  },
  {
   "cell_type": "code",
   "execution_count": 4,
   "id": "19c8251f-69ff-4a25-9d42-c6a35b99bf1a",
   "metadata": {},
   "outputs": [],
   "source": [
    "X = train_final.drop('prognosis', axis=1)\n",
    "y = train_final.prognosis"
   ]
  },
  {
   "cell_type": "markdown",
   "id": "37b63d7e-508a-4b34-ad06-8a3fa1249d23",
   "metadata": {},
   "source": [
    "# Feature Engineering"
   ]
  },
  {
   "cell_type": "code",
   "execution_count": 5,
   "id": "c7e28a41-1fc9-4fbb-abe3-f261e17ad80d",
   "metadata": {},
   "outputs": [],
   "source": [
    "n_components = 7\n",
    "pca_column_names = [f\"PCA{i+1}\" for i in range(n_components)]\n",
    "pca = PCA(n_components=n_components)\n",
    "X = pd.DataFrame(pca.fit_transform(X), columns=pca_column_names)"
   ]
  },
  {
   "cell_type": "markdown",
   "id": "3f7a6def-53ba-45b7-a939-d3f968b07338",
   "metadata": {},
   "source": [
    "# Target transformation"
   ]
  },
  {
   "cell_type": "code",
   "execution_count": 6,
   "id": "23d6c825-9947-47dc-8e05-c2e03d14024e",
   "metadata": {},
   "outputs": [],
   "source": [
    "encoder = LabelEncoder()\n",
    "y = encoder.fit_transform(y)"
   ]
  },
  {
   "cell_type": "code",
   "execution_count": 7,
   "id": "beb36e2a-879f-42b5-9089-1add94488180",
   "metadata": {},
   "outputs": [],
   "source": [
    "def apk(actual, predicted, k=10):\n",
    "    \"\"\"\n",
    "    Computes the average precision at k.\n",
    "    This function computes the average prescision at k between two lists of\n",
    "    items.\n",
    "    Parameters\n",
    "    ----------\n",
    "    actual : list\n",
    "             A list of elements that are to be predicted (order doesn't matter)\n",
    "    predicted : list\n",
    "                A list of predicted elements (order does matter)\n",
    "    k : int, optional\n",
    "        The maximum number of predicted elements\n",
    "    Returns\n",
    "    -------\n",
    "    score : double\n",
    "            The average precision at k over the input lists\n",
    "    \"\"\"\n",
    "    if not actual:\n",
    "        return 0.0\n",
    "\n",
    "    if len(predicted)>k:\n",
    "        predicted = predicted[:k]\n",
    "\n",
    "    score = 0.0\n",
    "    num_hits = 0.0\n",
    "\n",
    "    for i,p in enumerate(predicted):\n",
    "        # first condition checks whether it is valid prediction\n",
    "        # second condition checks if prediction is not repeated\n",
    "        if p in actual and p not in predicted[:i]:\n",
    "            num_hits += 1.0\n",
    "            score += num_hits / (i+1.0)\n",
    "\n",
    "    return score / min(len(actual), k)\n",
    "\n",
    "def mapk(actual, predicted, k=3):\n",
    "    \"\"\"\n",
    "    Computes the mean average precision at k.\n",
    "    This function computes the mean average prescision at k between two lists\n",
    "    of lists of items.\n",
    "    Parameters\n",
    "    ----------\n",
    "    actual : list\n",
    "             A list of lists of elements that are to be predicted \n",
    "             (order doesn't matter in the lists)\n",
    "    predicted : list\n",
    "                A list of lists of predicted elements\n",
    "                (order matters in the lists)\n",
    "    k : int, optional\n",
    "        The maximum number of predicted elements\n",
    "    Returns\n",
    "    -------\n",
    "    score : double\n",
    "            The mean average precision at k over the input lists\n",
    "    \"\"\"\n",
    "    return np.mean([apk(a,p,k) for a,p in zip(actual, predicted)])"
   ]
  },
  {
   "cell_type": "markdown",
   "id": "80a43321-4e15-49f0-bf3a-6c164dd12bc3",
   "metadata": {},
   "source": [
    "# Model Selection"
   ]
  },
  {
   "cell_type": "code",
   "execution_count": 8,
   "id": "b043ce91-3dc6-4110-a515-9192e1c5b002",
   "metadata": {},
   "outputs": [
    {
     "data": {
      "text/html": [
       "<style type=\"text/css\">\n",
       "#T_f57b0_row9_col1 {\n",
       "  background-color: lightgreen;\n",
       "}\n",
       "</style>\n",
       "<table id=\"T_f57b0_\">\n",
       "  <thead>\n",
       "    <tr>\n",
       "      <th class=\"blank level0\" >&nbsp;</th>\n",
       "      <th class=\"col_heading level0 col0\" >Description</th>\n",
       "      <th class=\"col_heading level0 col1\" >Value</th>\n",
       "    </tr>\n",
       "  </thead>\n",
       "  <tbody>\n",
       "    <tr>\n",
       "      <th id=\"T_f57b0_level0_row0\" class=\"row_heading level0 row0\" >0</th>\n",
       "      <td id=\"T_f57b0_row0_col0\" class=\"data row0 col0\" >Session id</td>\n",
       "      <td id=\"T_f57b0_row0_col1\" class=\"data row0 col1\" >4893</td>\n",
       "    </tr>\n",
       "    <tr>\n",
       "      <th id=\"T_f57b0_level0_row1\" class=\"row_heading level0 row1\" >1</th>\n",
       "      <td id=\"T_f57b0_row1_col0\" class=\"data row1 col0\" >Target</td>\n",
       "      <td id=\"T_f57b0_row1_col1\" class=\"data row1 col1\" >prognosis</td>\n",
       "    </tr>\n",
       "    <tr>\n",
       "      <th id=\"T_f57b0_level0_row2\" class=\"row_heading level0 row2\" >2</th>\n",
       "      <td id=\"T_f57b0_row2_col0\" class=\"data row2 col0\" >Target type</td>\n",
       "      <td id=\"T_f57b0_row2_col1\" class=\"data row2 col1\" >Multiclass</td>\n",
       "    </tr>\n",
       "    <tr>\n",
       "      <th id=\"T_f57b0_level0_row3\" class=\"row_heading level0 row3\" >3</th>\n",
       "      <td id=\"T_f57b0_row3_col0\" class=\"data row3 col0\" >Target mapping</td>\n",
       "      <td id=\"T_f57b0_row3_col1\" class=\"data row3 col1\" >Chikungunya: 0, Dengue: 1, Japanese_encephalitis: 2, Lyme_disease: 3, Malaria: 4, Plague: 5, Rift_Valley_fever: 6, Tungiasis: 7, West_Nile_fever: 8, Yellow_Fever: 9, Zika: 10</td>\n",
       "    </tr>\n",
       "    <tr>\n",
       "      <th id=\"T_f57b0_level0_row4\" class=\"row_heading level0 row4\" >4</th>\n",
       "      <td id=\"T_f57b0_row4_col0\" class=\"data row4 col0\" >Original data shape</td>\n",
       "      <td id=\"T_f57b0_row4_col1\" class=\"data row4 col1\" >(707, 65)</td>\n",
       "    </tr>\n",
       "    <tr>\n",
       "      <th id=\"T_f57b0_level0_row5\" class=\"row_heading level0 row5\" >5</th>\n",
       "      <td id=\"T_f57b0_row5_col0\" class=\"data row5 col0\" >Transformed data shape</td>\n",
       "      <td id=\"T_f57b0_row5_col1\" class=\"data row5 col1\" >(707, 65)</td>\n",
       "    </tr>\n",
       "    <tr>\n",
       "      <th id=\"T_f57b0_level0_row6\" class=\"row_heading level0 row6\" >6</th>\n",
       "      <td id=\"T_f57b0_row6_col0\" class=\"data row6 col0\" >Transformed train set shape</td>\n",
       "      <td id=\"T_f57b0_row6_col1\" class=\"data row6 col1\" >(494, 65)</td>\n",
       "    </tr>\n",
       "    <tr>\n",
       "      <th id=\"T_f57b0_level0_row7\" class=\"row_heading level0 row7\" >7</th>\n",
       "      <td id=\"T_f57b0_row7_col0\" class=\"data row7 col0\" >Transformed test set shape</td>\n",
       "      <td id=\"T_f57b0_row7_col1\" class=\"data row7 col1\" >(213, 65)</td>\n",
       "    </tr>\n",
       "    <tr>\n",
       "      <th id=\"T_f57b0_level0_row8\" class=\"row_heading level0 row8\" >8</th>\n",
       "      <td id=\"T_f57b0_row8_col0\" class=\"data row8 col0\" >Numeric features</td>\n",
       "      <td id=\"T_f57b0_row8_col1\" class=\"data row8 col1\" >64</td>\n",
       "    </tr>\n",
       "    <tr>\n",
       "      <th id=\"T_f57b0_level0_row9\" class=\"row_heading level0 row9\" >9</th>\n",
       "      <td id=\"T_f57b0_row9_col0\" class=\"data row9 col0\" >Preprocess</td>\n",
       "      <td id=\"T_f57b0_row9_col1\" class=\"data row9 col1\" >True</td>\n",
       "    </tr>\n",
       "    <tr>\n",
       "      <th id=\"T_f57b0_level0_row10\" class=\"row_heading level0 row10\" >10</th>\n",
       "      <td id=\"T_f57b0_row10_col0\" class=\"data row10 col0\" >Imputation type</td>\n",
       "      <td id=\"T_f57b0_row10_col1\" class=\"data row10 col1\" >simple</td>\n",
       "    </tr>\n",
       "    <tr>\n",
       "      <th id=\"T_f57b0_level0_row11\" class=\"row_heading level0 row11\" >11</th>\n",
       "      <td id=\"T_f57b0_row11_col0\" class=\"data row11 col0\" >Numeric imputation</td>\n",
       "      <td id=\"T_f57b0_row11_col1\" class=\"data row11 col1\" >mean</td>\n",
       "    </tr>\n",
       "    <tr>\n",
       "      <th id=\"T_f57b0_level0_row12\" class=\"row_heading level0 row12\" >12</th>\n",
       "      <td id=\"T_f57b0_row12_col0\" class=\"data row12 col0\" >Categorical imputation</td>\n",
       "      <td id=\"T_f57b0_row12_col1\" class=\"data row12 col1\" >mode</td>\n",
       "    </tr>\n",
       "    <tr>\n",
       "      <th id=\"T_f57b0_level0_row13\" class=\"row_heading level0 row13\" >13</th>\n",
       "      <td id=\"T_f57b0_row13_col0\" class=\"data row13 col0\" >Fold Generator</td>\n",
       "      <td id=\"T_f57b0_row13_col1\" class=\"data row13 col1\" >StratifiedKFold</td>\n",
       "    </tr>\n",
       "    <tr>\n",
       "      <th id=\"T_f57b0_level0_row14\" class=\"row_heading level0 row14\" >14</th>\n",
       "      <td id=\"T_f57b0_row14_col0\" class=\"data row14 col0\" >Fold Number</td>\n",
       "      <td id=\"T_f57b0_row14_col1\" class=\"data row14 col1\" >10</td>\n",
       "    </tr>\n",
       "    <tr>\n",
       "      <th id=\"T_f57b0_level0_row15\" class=\"row_heading level0 row15\" >15</th>\n",
       "      <td id=\"T_f57b0_row15_col0\" class=\"data row15 col0\" >CPU Jobs</td>\n",
       "      <td id=\"T_f57b0_row15_col1\" class=\"data row15 col1\" >-1</td>\n",
       "    </tr>\n",
       "    <tr>\n",
       "      <th id=\"T_f57b0_level0_row16\" class=\"row_heading level0 row16\" >16</th>\n",
       "      <td id=\"T_f57b0_row16_col0\" class=\"data row16 col0\" >Use GPU</td>\n",
       "      <td id=\"T_f57b0_row16_col1\" class=\"data row16 col1\" >False</td>\n",
       "    </tr>\n",
       "    <tr>\n",
       "      <th id=\"T_f57b0_level0_row17\" class=\"row_heading level0 row17\" >17</th>\n",
       "      <td id=\"T_f57b0_row17_col0\" class=\"data row17 col0\" >Log Experiment</td>\n",
       "      <td id=\"T_f57b0_row17_col1\" class=\"data row17 col1\" >False</td>\n",
       "    </tr>\n",
       "    <tr>\n",
       "      <th id=\"T_f57b0_level0_row18\" class=\"row_heading level0 row18\" >18</th>\n",
       "      <td id=\"T_f57b0_row18_col0\" class=\"data row18 col0\" >Experiment Name</td>\n",
       "      <td id=\"T_f57b0_row18_col1\" class=\"data row18 col1\" >clf-default-name</td>\n",
       "    </tr>\n",
       "    <tr>\n",
       "      <th id=\"T_f57b0_level0_row19\" class=\"row_heading level0 row19\" >19</th>\n",
       "      <td id=\"T_f57b0_row19_col0\" class=\"data row19 col0\" >USI</td>\n",
       "      <td id=\"T_f57b0_row19_col1\" class=\"data row19 col1\" >fb11</td>\n",
       "    </tr>\n",
       "  </tbody>\n",
       "</table>\n"
      ],
      "text/plain": [
       "<pandas.io.formats.style.Styler at 0x16b17eb9788>"
      ]
     },
     "metadata": {},
     "output_type": "display_data"
    }
   ],
   "source": [
    "_ = setup(data=train, target='prognosis')"
   ]
  },
  {
   "cell_type": "code",
   "execution_count": 9,
   "id": "756f817a-7827-4e5f-a63d-dd0b5b4ad0fc",
   "metadata": {},
   "outputs": [
    {
     "data": {
      "text/plain": [
       "Name                                                  MAPK\n",
       "Display Name                                          MAPK\n",
       "Score Function       <function mapk at 0x0000016B1A62BEE8>\n",
       "Scorer                                   make_scorer(mapk)\n",
       "Target                                                pred\n",
       "Args                                                    {}\n",
       "Greater is Better                                     True\n",
       "Multiclass                                            True\n",
       "Custom                                                True\n",
       "Name: mapk, dtype: object"
      ]
     },
     "execution_count": 9,
     "metadata": {},
     "output_type": "execute_result"
    }
   ],
   "source": [
    "add_metric(id='mapk', name='MAPK', score_func=mapk)"
   ]
  },
  {
   "cell_type": "code",
   "execution_count": 10,
   "id": "0b607567-9496-4256-a042-bb05442720cf",
   "metadata": {},
   "outputs": [
    {
     "data": {
      "text/html": [],
      "text/plain": [
       "<IPython.core.display.HTML object>"
      ]
     },
     "metadata": {},
     "output_type": "display_data"
    },
    {
     "data": {
      "text/html": [
       "<style type=\"text/css\">\n",
       "#T_fb177_ th {\n",
       "  text-align: left;\n",
       "}\n",
       "#T_fb177_row0_col0, #T_fb177_row0_col2, #T_fb177_row0_col8, #T_fb177_row1_col0, #T_fb177_row1_col1, #T_fb177_row1_col2, #T_fb177_row1_col3, #T_fb177_row1_col4, #T_fb177_row1_col5, #T_fb177_row1_col6, #T_fb177_row1_col7, #T_fb177_row2_col0, #T_fb177_row2_col1, #T_fb177_row2_col2, #T_fb177_row2_col3, #T_fb177_row2_col4, #T_fb177_row2_col5, #T_fb177_row2_col6, #T_fb177_row2_col7, #T_fb177_row2_col8, #T_fb177_row3_col0, #T_fb177_row3_col1, #T_fb177_row3_col2, #T_fb177_row3_col3, #T_fb177_row3_col4, #T_fb177_row3_col5, #T_fb177_row3_col6, #T_fb177_row3_col7, #T_fb177_row3_col8, #T_fb177_row4_col0, #T_fb177_row4_col1, #T_fb177_row4_col2, #T_fb177_row4_col3, #T_fb177_row4_col4, #T_fb177_row4_col5, #T_fb177_row4_col6, #T_fb177_row4_col7, #T_fb177_row4_col8, #T_fb177_row5_col0, #T_fb177_row5_col1, #T_fb177_row5_col3, #T_fb177_row5_col4, #T_fb177_row5_col5, #T_fb177_row5_col6, #T_fb177_row5_col7, #T_fb177_row5_col8, #T_fb177_row6_col0, #T_fb177_row6_col1, #T_fb177_row6_col2, #T_fb177_row6_col3, #T_fb177_row6_col4, #T_fb177_row6_col5, #T_fb177_row6_col6, #T_fb177_row6_col7, #T_fb177_row6_col8, #T_fb177_row7_col0, #T_fb177_row7_col1, #T_fb177_row7_col2, #T_fb177_row7_col3, #T_fb177_row7_col4, #T_fb177_row7_col5, #T_fb177_row7_col6, #T_fb177_row7_col7, #T_fb177_row7_col8, #T_fb177_row8_col0, #T_fb177_row8_col1, #T_fb177_row8_col2, #T_fb177_row8_col3, #T_fb177_row8_col4, #T_fb177_row8_col5, #T_fb177_row8_col6, #T_fb177_row8_col7, #T_fb177_row8_col8, #T_fb177_row9_col0, #T_fb177_row9_col1, #T_fb177_row9_col2, #T_fb177_row9_col3, #T_fb177_row9_col4, #T_fb177_row9_col5, #T_fb177_row9_col6, #T_fb177_row9_col7, #T_fb177_row9_col8, #T_fb177_row10_col0, #T_fb177_row10_col1, #T_fb177_row10_col2, #T_fb177_row10_col3, #T_fb177_row10_col4, #T_fb177_row10_col5, #T_fb177_row10_col6, #T_fb177_row10_col7, #T_fb177_row10_col8, #T_fb177_row11_col0, #T_fb177_row11_col1, #T_fb177_row11_col2, #T_fb177_row11_col3, #T_fb177_row11_col4, #T_fb177_row11_col5, #T_fb177_row11_col6, #T_fb177_row11_col7, #T_fb177_row11_col8, #T_fb177_row12_col0, #T_fb177_row12_col1, #T_fb177_row12_col2, #T_fb177_row12_col3, #T_fb177_row12_col4, #T_fb177_row12_col5, #T_fb177_row12_col6, #T_fb177_row12_col7, #T_fb177_row12_col8, #T_fb177_row13_col0, #T_fb177_row13_col1, #T_fb177_row13_col2, #T_fb177_row13_col3, #T_fb177_row13_col4, #T_fb177_row13_col5, #T_fb177_row13_col6, #T_fb177_row13_col7, #T_fb177_row13_col8, #T_fb177_row14_col0, #T_fb177_row14_col1, #T_fb177_row14_col2, #T_fb177_row14_col3, #T_fb177_row14_col4, #T_fb177_row14_col5, #T_fb177_row14_col6, #T_fb177_row14_col7, #T_fb177_row14_col8 {\n",
       "  text-align: left;\n",
       "}\n",
       "#T_fb177_row0_col1, #T_fb177_row0_col3, #T_fb177_row0_col4, #T_fb177_row0_col5, #T_fb177_row0_col6, #T_fb177_row0_col7, #T_fb177_row1_col8, #T_fb177_row5_col2 {\n",
       "  text-align: left;\n",
       "  background-color: yellow;\n",
       "}\n",
       "#T_fb177_row0_col9, #T_fb177_row1_col9, #T_fb177_row2_col9, #T_fb177_row3_col9, #T_fb177_row4_col9, #T_fb177_row5_col9, #T_fb177_row6_col9, #T_fb177_row7_col9, #T_fb177_row8_col9, #T_fb177_row9_col9, #T_fb177_row11_col9, #T_fb177_row12_col9, #T_fb177_row13_col9, #T_fb177_row14_col9 {\n",
       "  text-align: left;\n",
       "  background-color: lightgrey;\n",
       "}\n",
       "#T_fb177_row10_col9 {\n",
       "  text-align: left;\n",
       "  background-color: yellow;\n",
       "  background-color: lightgrey;\n",
       "}\n",
       "</style>\n",
       "<table id=\"T_fb177_\">\n",
       "  <thead>\n",
       "    <tr>\n",
       "      <th class=\"blank level0\" >&nbsp;</th>\n",
       "      <th class=\"col_heading level0 col0\" >Model</th>\n",
       "      <th class=\"col_heading level0 col1\" >Accuracy</th>\n",
       "      <th class=\"col_heading level0 col2\" >AUC</th>\n",
       "      <th class=\"col_heading level0 col3\" >Recall</th>\n",
       "      <th class=\"col_heading level0 col4\" >Prec.</th>\n",
       "      <th class=\"col_heading level0 col5\" >F1</th>\n",
       "      <th class=\"col_heading level0 col6\" >Kappa</th>\n",
       "      <th class=\"col_heading level0 col7\" >MCC</th>\n",
       "      <th class=\"col_heading level0 col8\" >MAPK</th>\n",
       "      <th class=\"col_heading level0 col9\" >TT (Sec)</th>\n",
       "    </tr>\n",
       "  </thead>\n",
       "  <tbody>\n",
       "    <tr>\n",
       "      <th id=\"T_fb177_level0_row0\" class=\"row_heading level0 row0\" >et</th>\n",
       "      <td id=\"T_fb177_row0_col0\" class=\"data row0 col0\" >Extra Trees Classifier</td>\n",
       "      <td id=\"T_fb177_row0_col1\" class=\"data row0 col1\" >0.3100</td>\n",
       "      <td id=\"T_fb177_row0_col2\" class=\"data row0 col2\" >0.7361</td>\n",
       "      <td id=\"T_fb177_row0_col3\" class=\"data row0 col3\" >0.3100</td>\n",
       "      <td id=\"T_fb177_row0_col4\" class=\"data row0 col4\" >0.3157</td>\n",
       "      <td id=\"T_fb177_row0_col5\" class=\"data row0 col5\" >0.2944</td>\n",
       "      <td id=\"T_fb177_row0_col6\" class=\"data row0 col6\" >0.2392</td>\n",
       "      <td id=\"T_fb177_row0_col7\" class=\"data row0 col7\" >0.2418</td>\n",
       "      <td id=\"T_fb177_row0_col8\" class=\"data row0 col8\" >0.4121</td>\n",
       "      <td id=\"T_fb177_row0_col9\" class=\"data row0 col9\" >0.3090</td>\n",
       "    </tr>\n",
       "    <tr>\n",
       "      <th id=\"T_fb177_level0_row1\" class=\"row_heading level0 row1\" >lda</th>\n",
       "      <td id=\"T_fb177_row1_col0\" class=\"data row1 col0\" >Linear Discriminant Analysis</td>\n",
       "      <td id=\"T_fb177_row1_col1\" class=\"data row1 col1\" >0.3079</td>\n",
       "      <td id=\"T_fb177_row1_col2\" class=\"data row1 col2\" >0.7221</td>\n",
       "      <td id=\"T_fb177_row1_col3\" class=\"data row1 col3\" >0.3079</td>\n",
       "      <td id=\"T_fb177_row1_col4\" class=\"data row1 col4\" >0.3035</td>\n",
       "      <td id=\"T_fb177_row1_col5\" class=\"data row1 col5\" >0.2894</td>\n",
       "      <td id=\"T_fb177_row1_col6\" class=\"data row1 col6\" >0.2371</td>\n",
       "      <td id=\"T_fb177_row1_col7\" class=\"data row1 col7\" >0.2399</td>\n",
       "      <td id=\"T_fb177_row1_col8\" class=\"data row1 col8\" >0.4149</td>\n",
       "      <td id=\"T_fb177_row1_col9\" class=\"data row1 col9\" >0.2490</td>\n",
       "    </tr>\n",
       "    <tr>\n",
       "      <th id=\"T_fb177_level0_row2\" class=\"row_heading level0 row2\" >ridge</th>\n",
       "      <td id=\"T_fb177_row2_col0\" class=\"data row2 col0\" >Ridge Classifier</td>\n",
       "      <td id=\"T_fb177_row2_col1\" class=\"data row2 col1\" >0.3017</td>\n",
       "      <td id=\"T_fb177_row2_col2\" class=\"data row2 col2\" >0.0000</td>\n",
       "      <td id=\"T_fb177_row2_col3\" class=\"data row2 col3\" >0.3017</td>\n",
       "      <td id=\"T_fb177_row2_col4\" class=\"data row2 col4\" >0.2884</td>\n",
       "      <td id=\"T_fb177_row2_col5\" class=\"data row2 col5\" >0.2780</td>\n",
       "      <td id=\"T_fb177_row2_col6\" class=\"data row2 col6\" >0.2294</td>\n",
       "      <td id=\"T_fb177_row2_col7\" class=\"data row2 col7\" >0.2336</td>\n",
       "      <td id=\"T_fb177_row2_col8\" class=\"data row2 col8\" >0.4035</td>\n",
       "      <td id=\"T_fb177_row2_col9\" class=\"data row2 col9\" >0.2470</td>\n",
       "    </tr>\n",
       "    <tr>\n",
       "      <th id=\"T_fb177_level0_row3\" class=\"row_heading level0 row3\" >xgboost</th>\n",
       "      <td id=\"T_fb177_row3_col0\" class=\"data row3 col0\" >Extreme Gradient Boosting</td>\n",
       "      <td id=\"T_fb177_row3_col1\" class=\"data row3 col1\" >0.3017</td>\n",
       "      <td id=\"T_fb177_row3_col2\" class=\"data row3 col2\" >0.7315</td>\n",
       "      <td id=\"T_fb177_row3_col3\" class=\"data row3 col3\" >0.3017</td>\n",
       "      <td id=\"T_fb177_row3_col4\" class=\"data row3 col4\" >0.2961</td>\n",
       "      <td id=\"T_fb177_row3_col5\" class=\"data row3 col5\" >0.2847</td>\n",
       "      <td id=\"T_fb177_row3_col6\" class=\"data row3 col6\" >0.2307</td>\n",
       "      <td id=\"T_fb177_row3_col7\" class=\"data row3 col7\" >0.2334</td>\n",
       "      <td id=\"T_fb177_row3_col8\" class=\"data row3 col8\" >0.4023</td>\n",
       "      <td id=\"T_fb177_row3_col9\" class=\"data row3 col9\" >0.4800</td>\n",
       "    </tr>\n",
       "    <tr>\n",
       "      <th id=\"T_fb177_level0_row4\" class=\"row_heading level0 row4\" >gbc</th>\n",
       "      <td id=\"T_fb177_row4_col0\" class=\"data row4 col0\" >Gradient Boosting Classifier</td>\n",
       "      <td id=\"T_fb177_row4_col1\" class=\"data row4 col1\" >0.2957</td>\n",
       "      <td id=\"T_fb177_row4_col2\" class=\"data row4 col2\" >0.7194</td>\n",
       "      <td id=\"T_fb177_row4_col3\" class=\"data row4 col3\" >0.2957</td>\n",
       "      <td id=\"T_fb177_row4_col4\" class=\"data row4 col4\" >0.2967</td>\n",
       "      <td id=\"T_fb177_row4_col5\" class=\"data row4 col5\" >0.2787</td>\n",
       "      <td id=\"T_fb177_row4_col6\" class=\"data row4 col6\" >0.2227</td>\n",
       "      <td id=\"T_fb177_row4_col7\" class=\"data row4 col7\" >0.2250</td>\n",
       "      <td id=\"T_fb177_row4_col8\" class=\"data row4 col8\" >0.4046</td>\n",
       "      <td id=\"T_fb177_row4_col9\" class=\"data row4 col9\" >0.5180</td>\n",
       "    </tr>\n",
       "    <tr>\n",
       "      <th id=\"T_fb177_level0_row5\" class=\"row_heading level0 row5\" >rf</th>\n",
       "      <td id=\"T_fb177_row5_col0\" class=\"data row5 col0\" >Random Forest Classifier</td>\n",
       "      <td id=\"T_fb177_row5_col1\" class=\"data row5 col1\" >0.2956</td>\n",
       "      <td id=\"T_fb177_row5_col2\" class=\"data row5 col2\" >0.7428</td>\n",
       "      <td id=\"T_fb177_row5_col3\" class=\"data row5 col3\" >0.2956</td>\n",
       "      <td id=\"T_fb177_row5_col4\" class=\"data row5 col4\" >0.2747</td>\n",
       "      <td id=\"T_fb177_row5_col5\" class=\"data row5 col5\" >0.2740</td>\n",
       "      <td id=\"T_fb177_row5_col6\" class=\"data row5 col6\" >0.2222</td>\n",
       "      <td id=\"T_fb177_row5_col7\" class=\"data row5 col7\" >0.2245</td>\n",
       "      <td id=\"T_fb177_row5_col8\" class=\"data row5 col8\" >0.3996</td>\n",
       "      <td id=\"T_fb177_row5_col9\" class=\"data row5 col9\" >0.3000</td>\n",
       "    </tr>\n",
       "    <tr>\n",
       "      <th id=\"T_fb177_level0_row6\" class=\"row_heading level0 row6\" >lr</th>\n",
       "      <td id=\"T_fb177_row6_col0\" class=\"data row6 col0\" >Logistic Regression</td>\n",
       "      <td id=\"T_fb177_row6_col1\" class=\"data row6 col1\" >0.2856</td>\n",
       "      <td id=\"T_fb177_row6_col2\" class=\"data row6 col2\" >0.7192</td>\n",
       "      <td id=\"T_fb177_row6_col3\" class=\"data row6 col3\" >0.2856</td>\n",
       "      <td id=\"T_fb177_row6_col4\" class=\"data row6 col4\" >0.2920</td>\n",
       "      <td id=\"T_fb177_row6_col5\" class=\"data row6 col5\" >0.2747</td>\n",
       "      <td id=\"T_fb177_row6_col6\" class=\"data row6 col6\" >0.2125</td>\n",
       "      <td id=\"T_fb177_row6_col7\" class=\"data row6 col7\" >0.2150</td>\n",
       "      <td id=\"T_fb177_row6_col8\" class=\"data row6 col8\" >0.3886</td>\n",
       "      <td id=\"T_fb177_row6_col9\" class=\"data row6 col9\" >0.6420</td>\n",
       "    </tr>\n",
       "    <tr>\n",
       "      <th id=\"T_fb177_level0_row7\" class=\"row_heading level0 row7\" >lightgbm</th>\n",
       "      <td id=\"T_fb177_row7_col0\" class=\"data row7 col0\" >Light Gradient Boosting Machine</td>\n",
       "      <td id=\"T_fb177_row7_col1\" class=\"data row7 col1\" >0.2734</td>\n",
       "      <td id=\"T_fb177_row7_col2\" class=\"data row7 col2\" >0.7263</td>\n",
       "      <td id=\"T_fb177_row7_col3\" class=\"data row7 col3\" >0.2734</td>\n",
       "      <td id=\"T_fb177_row7_col4\" class=\"data row7 col4\" >0.2504</td>\n",
       "      <td id=\"T_fb177_row7_col5\" class=\"data row7 col5\" >0.2517</td>\n",
       "      <td id=\"T_fb177_row7_col6\" class=\"data row7 col6\" >0.1993</td>\n",
       "      <td id=\"T_fb177_row7_col7\" class=\"data row7 col7\" >0.2016</td>\n",
       "      <td id=\"T_fb177_row7_col8\" class=\"data row7 col8\" >0.3785</td>\n",
       "      <td id=\"T_fb177_row7_col9\" class=\"data row7 col9\" >0.5180</td>\n",
       "    </tr>\n",
       "    <tr>\n",
       "      <th id=\"T_fb177_level0_row8\" class=\"row_heading level0 row8\" >knn</th>\n",
       "      <td id=\"T_fb177_row8_col0\" class=\"data row8 col0\" >K Neighbors Classifier</td>\n",
       "      <td id=\"T_fb177_row8_col1\" class=\"data row8 col1\" >0.2733</td>\n",
       "      <td id=\"T_fb177_row8_col2\" class=\"data row8 col2\" >0.6580</td>\n",
       "      <td id=\"T_fb177_row8_col3\" class=\"data row8 col3\" >0.2733</td>\n",
       "      <td id=\"T_fb177_row8_col4\" class=\"data row8 col4\" >0.2319</td>\n",
       "      <td id=\"T_fb177_row8_col5\" class=\"data row8 col5\" >0.2265</td>\n",
       "      <td id=\"T_fb177_row8_col6\" class=\"data row8 col6\" >0.1996</td>\n",
       "      <td id=\"T_fb177_row8_col7\" class=\"data row8 col7\" >0.2076</td>\n",
       "      <td id=\"T_fb177_row8_col8\" class=\"data row8 col8\" >0.3795</td>\n",
       "      <td id=\"T_fb177_row8_col9\" class=\"data row8 col9\" >0.2720</td>\n",
       "    </tr>\n",
       "    <tr>\n",
       "      <th id=\"T_fb177_level0_row9\" class=\"row_heading level0 row9\" >svm</th>\n",
       "      <td id=\"T_fb177_row9_col0\" class=\"data row9 col0\" >SVM - Linear Kernel</td>\n",
       "      <td id=\"T_fb177_row9_col1\" class=\"data row9 col1\" >0.2451</td>\n",
       "      <td id=\"T_fb177_row9_col2\" class=\"data row9 col2\" >0.0000</td>\n",
       "      <td id=\"T_fb177_row9_col3\" class=\"data row9 col3\" >0.2451</td>\n",
       "      <td id=\"T_fb177_row9_col4\" class=\"data row9 col4\" >0.2568</td>\n",
       "      <td id=\"T_fb177_row9_col5\" class=\"data row9 col5\" >0.2304</td>\n",
       "      <td id=\"T_fb177_row9_col6\" class=\"data row9 col6\" >0.1668</td>\n",
       "      <td id=\"T_fb177_row9_col7\" class=\"data row9 col7\" >0.1706</td>\n",
       "      <td id=\"T_fb177_row9_col8\" class=\"data row9 col8\" >0.3513</td>\n",
       "      <td id=\"T_fb177_row9_col9\" class=\"data row9 col9\" >0.2610</td>\n",
       "    </tr>\n",
       "    <tr>\n",
       "      <th id=\"T_fb177_level0_row10\" class=\"row_heading level0 row10\" >nb</th>\n",
       "      <td id=\"T_fb177_row10_col0\" class=\"data row10 col0\" >Naive Bayes</td>\n",
       "      <td id=\"T_fb177_row10_col1\" class=\"data row10 col1\" >0.2407</td>\n",
       "      <td id=\"T_fb177_row10_col2\" class=\"data row10 col2\" >0.7052</td>\n",
       "      <td id=\"T_fb177_row10_col3\" class=\"data row10 col3\" >0.2407</td>\n",
       "      <td id=\"T_fb177_row10_col4\" class=\"data row10 col4\" >0.1973</td>\n",
       "      <td id=\"T_fb177_row10_col5\" class=\"data row10 col5\" >0.1836</td>\n",
       "      <td id=\"T_fb177_row10_col6\" class=\"data row10 col6\" >0.1726</td>\n",
       "      <td id=\"T_fb177_row10_col7\" class=\"data row10 col7\" >0.1933</td>\n",
       "      <td id=\"T_fb177_row10_col8\" class=\"data row10 col8\" >0.3746</td>\n",
       "      <td id=\"T_fb177_row10_col9\" class=\"data row10 col9\" >0.2380</td>\n",
       "    </tr>\n",
       "    <tr>\n",
       "      <th id=\"T_fb177_level0_row11\" class=\"row_heading level0 row11\" >dt</th>\n",
       "      <td id=\"T_fb177_row11_col0\" class=\"data row11 col0\" >Decision Tree Classifier</td>\n",
       "      <td id=\"T_fb177_row11_col1\" class=\"data row11 col1\" >0.2207</td>\n",
       "      <td id=\"T_fb177_row11_col2\" class=\"data row11 col2\" >0.5698</td>\n",
       "      <td id=\"T_fb177_row11_col3\" class=\"data row11 col3\" >0.2207</td>\n",
       "      <td id=\"T_fb177_row11_col4\" class=\"data row11 col4\" >0.2405</td>\n",
       "      <td id=\"T_fb177_row11_col5\" class=\"data row11 col5\" >0.2124</td>\n",
       "      <td id=\"T_fb177_row11_col6\" class=\"data row11 col6\" >0.1399</td>\n",
       "      <td id=\"T_fb177_row11_col7\" class=\"data row11 col7\" >0.1421</td>\n",
       "      <td id=\"T_fb177_row11_col8\" class=\"data row11 col8\" >0.3408</td>\n",
       "      <td id=\"T_fb177_row11_col9\" class=\"data row11 col9\" >0.2420</td>\n",
       "    </tr>\n",
       "    <tr>\n",
       "      <th id=\"T_fb177_level0_row12\" class=\"row_heading level0 row12\" >ada</th>\n",
       "      <td id=\"T_fb177_row12_col0\" class=\"data row12 col0\" >Ada Boost Classifier</td>\n",
       "      <td id=\"T_fb177_row12_col1\" class=\"data row12 col1\" >0.2023</td>\n",
       "      <td id=\"T_fb177_row12_col2\" class=\"data row12 col2\" >0.6610</td>\n",
       "      <td id=\"T_fb177_row12_col3\" class=\"data row12 col3\" >0.2023</td>\n",
       "      <td id=\"T_fb177_row12_col4\" class=\"data row12 col4\" >0.1854</td>\n",
       "      <td id=\"T_fb177_row12_col5\" class=\"data row12 col5\" >0.1746</td>\n",
       "      <td id=\"T_fb177_row12_col6\" class=\"data row12 col6\" >0.1234</td>\n",
       "      <td id=\"T_fb177_row12_col7\" class=\"data row12 col7\" >0.1280</td>\n",
       "      <td id=\"T_fb177_row12_col8\" class=\"data row12 col8\" >0.3143</td>\n",
       "      <td id=\"T_fb177_row12_col9\" class=\"data row12 col9\" >0.2540</td>\n",
       "    </tr>\n",
       "    <tr>\n",
       "      <th id=\"T_fb177_level0_row13\" class=\"row_heading level0 row13\" >dummy</th>\n",
       "      <td id=\"T_fb177_row13_col0\" class=\"data row13 col0\" >Dummy Classifier</td>\n",
       "      <td id=\"T_fb177_row13_col1\" class=\"data row13 col1\" >0.1194</td>\n",
       "      <td id=\"T_fb177_row13_col2\" class=\"data row13 col2\" >0.5000</td>\n",
       "      <td id=\"T_fb177_row13_col3\" class=\"data row13 col3\" >0.1194</td>\n",
       "      <td id=\"T_fb177_row13_col4\" class=\"data row13 col4\" >0.0143</td>\n",
       "      <td id=\"T_fb177_row13_col5\" class=\"data row13 col5\" >0.0255</td>\n",
       "      <td id=\"T_fb177_row13_col6\" class=\"data row13 col6\" >0.0000</td>\n",
       "      <td id=\"T_fb177_row13_col7\" class=\"data row13 col7\" >0.0000</td>\n",
       "      <td id=\"T_fb177_row13_col8\" class=\"data row13 col8\" >0.2621</td>\n",
       "      <td id=\"T_fb177_row13_col9\" class=\"data row13 col9\" >0.2540</td>\n",
       "    </tr>\n",
       "    <tr>\n",
       "      <th id=\"T_fb177_level0_row14\" class=\"row_heading level0 row14\" >qda</th>\n",
       "      <td id=\"T_fb177_row14_col0\" class=\"data row14 col0\" >Quadratic Discriminant Analysis</td>\n",
       "      <td id=\"T_fb177_row14_col1\" class=\"data row14 col1\" >0.1113</td>\n",
       "      <td id=\"T_fb177_row14_col2\" class=\"data row14 col2\" >0.5127</td>\n",
       "      <td id=\"T_fb177_row14_col3\" class=\"data row14 col3\" >0.1113</td>\n",
       "      <td id=\"T_fb177_row14_col4\" class=\"data row14 col4\" >0.1012</td>\n",
       "      <td id=\"T_fb177_row14_col5\" class=\"data row14 col5\" >0.0962</td>\n",
       "      <td id=\"T_fb177_row14_col6\" class=\"data row14 col6\" >0.0254</td>\n",
       "      <td id=\"T_fb177_row14_col7\" class=\"data row14 col7\" >0.0262</td>\n",
       "      <td id=\"T_fb177_row14_col8\" class=\"data row14 col8\" >0.2519</td>\n",
       "      <td id=\"T_fb177_row14_col9\" class=\"data row14 col9\" >0.2490</td>\n",
       "    </tr>\n",
       "  </tbody>\n",
       "</table>\n"
      ],
      "text/plain": [
       "<pandas.io.formats.style.Styler at 0x16b1c68ba88>"
      ]
     },
     "metadata": {},
     "output_type": "display_data"
    },
    {
     "data": {
      "application/vnd.jupyter.widget-view+json": {
       "model_id": "",
       "version_major": 2,
       "version_minor": 0
      },
      "text/plain": [
       "Processing:   0%|          | 0/65 [00:00<?, ?it/s]"
      ]
     },
     "metadata": {},
     "output_type": "display_data"
    }
   ],
   "source": [
    "best = compare_models()"
   ]
  },
  {
   "cell_type": "markdown",
   "id": "b5fa5d04-7f8f-434d-ac54-a8e4dc6186bb",
   "metadata": {},
   "source": [
    "# Hyperparameters Tuning"
   ]
  },
  {
   "cell_type": "code",
   "execution_count": 11,
   "id": "dda847f7-28cc-410b-93fc-38faf8149d84",
   "metadata": {},
   "outputs": [],
   "source": [
    "rskf = RepeatedStratifiedKFold(n_splits=10, n_repeats=3)"
   ]
  },
  {
   "cell_type": "code",
   "execution_count": 12,
   "id": "b6fc3454-02ab-47a2-bf86-e1ece53e2411",
   "metadata": {},
   "outputs": [],
   "source": [
    "def lda(trial):\n",
    "    solver = trial.suggest_categorical('solver', ['lsqr', 'eigen'])\n",
    "    tol = trial.suggest_loguniform('tol', 1e-8, 10.0)\n",
    "          \n",
    "    model = LinearDiscriminantAnalysis(\n",
    "        solver=solver,\n",
    "        tol=tol\n",
    "    )\n",
    "    \n",
    "    results = []\n",
    "    \n",
    "    for i, (train_index, test_index) in enumerate(rskf.split(X, y)):\n",
    "        X_train, X_test = X.iloc[train_index], X.iloc[test_index]\n",
    "        y_train, y_test = y[train_index], y[test_index]\n",
    "\n",
    "        model.fit(X_train, y_train)\n",
    "        y_pred = model.predict_proba(X_test)\n",
    "\n",
    "        sorted_pred_idx = np.argsort(-y_pred, axis=1)[:,:3]\n",
    "        original_shape = sorted_pred_idx.shape\n",
    "        top3_pred = encoder.inverse_transform(sorted_pred_idx.reshape(-1,1))\n",
    "        top3_pred = top3_pred.reshape(original_shape)\n",
    "        results.append(mapk(y_test.reshape(-1, 1), sorted_pred_idx, k=3))\n",
    "    \n",
    "    return np.mean(results)"
   ]
  },
  {
   "cell_type": "code",
   "execution_count": 13,
   "id": "89af5b5e-6bdb-4b30-8033-ab4cdd0c3a3d",
   "metadata": {},
   "outputs": [],
   "source": [
    "def ridge(trial):\n",
    "    alpha = trial.suggest_int('alpha', 0, 1000)\n",
    "    tol = trial.suggest_loguniform('tol', 1e-8, 10.0)\n",
    "        \n",
    "    model = RidgeClassifier(\n",
    "        alpha=alpha,\n",
    "        tol=tol\n",
    "    )\n",
    "    calibrated_model = CalibratedClassifierCV(model, method='sigmoid')\n",
    "    \n",
    "    results = []\n",
    "    \n",
    "    for i, (train_index, test_index) in enumerate(rskf.split(X, y)):\n",
    "        X_train, X_test = X.iloc[train_index], X.iloc[test_index]\n",
    "        y_train, y_test = y[train_index], y[test_index]\n",
    "\n",
    "        calibrated_model.fit(X_train, y_train)\n",
    "        y_pred = calibrated_model.predict_proba(X_test)\n",
    "\n",
    "        sorted_pred_idx = np.argsort(-y_pred, axis=1)[:,:3]\n",
    "        original_shape = sorted_pred_idx.shape\n",
    "        top3_pred = encoder.inverse_transform(sorted_pred_idx.reshape(-1,1))\n",
    "        top3_pred = top3_pred.reshape(original_shape)\n",
    "        results.append(mapk(y_test.reshape(-1, 1), sorted_pred_idx, k=3))\n",
    "    \n",
    "    return np.mean(results)"
   ]
  },
  {
   "cell_type": "code",
   "execution_count": 14,
   "id": "2c3d4def-bbb2-4353-878b-a36c82f0ff03",
   "metadata": {},
   "outputs": [],
   "source": [
    "def lr(trial):\n",
    "    C = trial.suggest_loguniform('C', 0.001, 1000)\n",
    "    solver = trial.suggest_categorical('solver', ['newton-cg', 'liblinear', 'sag', 'saga'])\n",
    "    \n",
    "    if solver=='sag' or solver=='newton-cg':\n",
    "        penalty = 'l2'\n",
    "        multi_class = trial.suggest_categorical('multi_class', ['ovr', 'multinomial'])\n",
    "    elif solver=='liblinear':\n",
    "        multi_class = 'ovr'\n",
    "        penalty = trial.suggest_categorical('penalty', ['l1', 'l2'])\n",
    "        if penalty==1:\n",
    "            l1_ratio = trial.suggest_float(0, 1)\n",
    "    elif solver=='saga':\n",
    "        multi_class = trial.suggest_categorical('multi_class', ['ovr', 'multinomial'])\n",
    "        penalty = trial.suggest_categorical('penalty', ['l1', 'l2'])\n",
    "        if penalty==1:\n",
    "            l1_ratio = trial.suggest_float(0, 1)\n",
    "          \n",
    "    model = LogisticRegression(\n",
    "        C=C,\n",
    "        penalty = penalty,\n",
    "        solver=solver,\n",
    "        multi_class=multi_class\n",
    "    )\n",
    "    \n",
    "    results = []\n",
    "    \n",
    "    for i, (train_index, test_index) in enumerate(rskf.split(X, y)):\n",
    "        X_train, X_test = X.iloc[train_index], X.iloc[test_index]\n",
    "        y_train, y_test = y[train_index], y[test_index]\n",
    "\n",
    "        model.fit(X_train, y_train)\n",
    "        y_pred = model.predict_proba(X_test)\n",
    "\n",
    "        sorted_pred_idx = np.argsort(-y_pred, axis=1)[:,:3]\n",
    "        original_shape = sorted_pred_idx.shape\n",
    "        top3_pred = encoder.inverse_transform(sorted_pred_idx.reshape(-1,1))\n",
    "        top3_pred = top3_pred.reshape(original_shape)\n",
    "        results.append(mapk(y_test.reshape(-1, 1), sorted_pred_idx, k=3))\n",
    "    \n",
    "    return np.mean(results)"
   ]
  },
  {
   "cell_type": "code",
   "execution_count": 15,
   "id": "e04075c3-c502-466c-b1b0-5fee4959f915",
   "metadata": {},
   "outputs": [],
   "source": [
    "def rf(trial):\n",
    "    max_depth = trial.suggest_int('max_depth', 1, 100)\n",
    "    n_estimators = trial.suggest_int('n_estimators', 10, 500)\n",
    "    min_samples_leaf = trial.suggest_int('min_samples_leaf', 1, 100)\n",
    "    min_samples_split = trial.suggest_int('min_samples_split', 2, 100)\n",
    "    random_state = 0\n",
    "          \n",
    "    model = RandomForestClassifier(\n",
    "        max_depth=max_depth,\n",
    "        n_estimators=n_estimators,\n",
    "        min_samples_leaf=min_samples_leaf,\n",
    "        min_samples_split=min_samples_split,\n",
    "        random_state=random_state\n",
    "    )\n",
    "    \n",
    "    results = []\n",
    "    \n",
    "    for i, (train_index, test_index) in enumerate(rskf.split(X, y)):\n",
    "        X_train, X_test = X.iloc[train_index], X.iloc[test_index]\n",
    "        y_train, y_test = y[train_index], y[test_index]\n",
    "\n",
    "        model.fit(X_train, y_train)\n",
    "        y_pred = model.predict_proba(X_test)\n",
    "\n",
    "        sorted_pred_idx = np.argsort(-y_pred, axis=1)[:,:3]\n",
    "        original_shape = sorted_pred_idx.shape\n",
    "        top3_pred = encoder.inverse_transform(sorted_pred_idx.reshape(-1,1))\n",
    "        top3_pred = top3_pred.reshape(original_shape)\n",
    "        results.append(mapk(y_test.reshape(-1, 1), sorted_pred_idx, k=3))\n",
    "    \n",
    "    return np.mean(results)"
   ]
  },
  {
   "cell_type": "code",
   "execution_count": 16,
   "id": "8aec7962-4362-4285-afaa-5dd7e17bc0ae",
   "metadata": {},
   "outputs": [],
   "source": [
    "def xgb(trial):\n",
    "    params = {\n",
    "        'n_estimators': trial.suggest_int('n_estimators', 50, 1000),\n",
    "        'max_depth': trial.suggest_int('max_depth', 3, 10),\n",
    "        'learning_rate': trial.suggest_loguniform('learning_rate', 0.001, 0.1),\n",
    "        'subsample': trial.suggest_uniform('subsample', 0.1, 1),\n",
    "        'colsample_bytree': trial.suggest_uniform('colsample_bytree', 0.1, 1),\n",
    "        'reg_alpha': trial.suggest_loguniform('reg_alpha', 1e-10, 1),\n",
    "        'reg_lambda': trial.suggest_loguniform('reg_lambda', 1e-10, 1),\n",
    "        'gamma': trial.suggest_loguniform('gamma', 1e-10, 1),\n",
    "        'min_child_weight': trial.suggest_int('min_child_weight', 1, 10),\n",
    "        'eval_metric': 'mlogloss',\n",
    "        'random_state': 0,\n",
    "        'n_jobs': -1\n",
    "    }\n",
    "    \n",
    "    model = XGBClassifier(**params)\n",
    "\n",
    "    results = []\n",
    "    \n",
    "    for i, (train_index, test_index) in enumerate(rskf.split(X, y)):\n",
    "        X_train, X_test = X.iloc[train_index], X.iloc[test_index]\n",
    "        y_train, y_test = y[train_index], y[test_index]\n",
    "\n",
    "        model.fit(X_train, y_train)\n",
    "        y_pred = model.predict_proba(X_test)\n",
    "\n",
    "        sorted_pred_idx = np.argsort(-y_pred, axis=1)[:,:3]\n",
    "        original_shape = sorted_pred_idx.shape\n",
    "        top3_pred = encoder.inverse_transform(sorted_pred_idx.reshape(-1,1))\n",
    "        top3_pred = top3_pred.reshape(original_shape)\n",
    "        results.append(mapk(y_test.reshape(-1, 1), sorted_pred_idx, k=3))\n",
    "    \n",
    "    return np.mean(results)"
   ]
  },
  {
   "cell_type": "code",
   "execution_count": 17,
   "id": "7f55fee8-d35e-4007-a2c3-e891ffaea5b1",
   "metadata": {},
   "outputs": [],
   "source": [
    "def et(trial):\n",
    "    max_depth = trial.suggest_int('max_depth', 1, 100)\n",
    "    n_estimators = trial.suggest_int('n_estimators', 10, 500)\n",
    "    min_samples_leaf = trial.suggest_int('min_samples_leaf', 1, 100)\n",
    "    min_samples_split = trial.suggest_int('min_samples_split', 2, 100)\n",
    "    max_features = trial.suggest_categorical('max_features', ['auto', 'sqrt', 'log2', None])\n",
    "    random_state = 0\n",
    "\n",
    "          \n",
    "    model = ExtraTreesClassifier(\n",
    "        max_depth=max_depth,\n",
    "        n_estimators=n_estimators,\n",
    "        min_samples_leaf=min_samples_leaf,\n",
    "        min_samples_split=min_samples_split,\n",
    "        max_features=max_features,\n",
    "        random_state=random_state\n",
    "    )\n",
    "    \n",
    "    results = []\n",
    "    \n",
    "    for i, (train_index, test_index) in enumerate(rskf.split(X, y)):\n",
    "        X_train, X_test = X.iloc[train_index], X.iloc[test_index]\n",
    "        y_train, y_test = y[train_index], y[test_index]\n",
    "\n",
    "        model.fit(X_train, y_train)\n",
    "        y_pred = model.predict_proba(X_test)\n",
    "\n",
    "        sorted_pred_idx = np.argsort(-y_pred, axis=1)[:,:3]\n",
    "        original_shape = sorted_pred_idx.shape\n",
    "        top3_pred = encoder.inverse_transform(sorted_pred_idx.reshape(-1,1))\n",
    "        top3_pred = top3_pred.reshape(original_shape)\n",
    "        results.append(mapk(y_test.reshape(-1, 1), sorted_pred_idx, k=3))\n",
    "    \n",
    "    return np.mean(results)"
   ]
  },
  {
   "cell_type": "code",
   "execution_count": 18,
   "id": "a56a5c4c-c4f9-47c7-accc-665868f34702",
   "metadata": {},
   "outputs": [],
   "source": [
    "def gbc(trial):\n",
    "    #tol = trial.suggest_loguniform('tol', 1e-8, 10.0)\n",
    "    max_depth = trial.suggest_int('max_depth', 1, 50)\n",
    "    learning_rate = trial.suggest_loguniform('learning_rate', .001, 1)\n",
    "    n_estimators = trial.suggest_int('n_estimators', 10, 500)\n",
    "    min_samples_leaf = trial.suggest_int('min_samples_leaf', 1, 100)\n",
    "    max_leaf_nodes = trial.suggest_int('max_leaf_nodes', 2, 100)\n",
    "    random_state = 0\n",
    "          \n",
    "    model = GradientBoostingClassifier(\n",
    "        #tol=tol,\n",
    "        max_depth=max_depth,\n",
    "        learning_rate=learning_rate,\n",
    "        n_estimators=n_estimators,\n",
    "        min_samples_leaf=min_samples_leaf,\n",
    "        max_leaf_nodes=max_leaf_nodes,\n",
    "        random_state=random_state\n",
    "    )\n",
    "    \n",
    "    results = []\n",
    "    \n",
    "    for i, (train_index, test_index) in enumerate(rskf.split(X, y)):\n",
    "        X_train, X_test = X.iloc[train_index], X.iloc[test_index]\n",
    "        y_train, y_test = y[train_index], y[test_index]\n",
    "\n",
    "        model.fit(X_train, y_train)\n",
    "        y_pred = model.predict_proba(X_test)\n",
    "\n",
    "        sorted_pred_idx = np.argsort(-y_pred, axis=1)[:,:3]\n",
    "        original_shape = sorted_pred_idx.shape\n",
    "        top3_pred = encoder.inverse_transform(sorted_pred_idx.reshape(-1,1))\n",
    "        top3_pred = top3_pred.reshape(original_shape)\n",
    "        results.append(mapk(y_test.reshape(-1, 1), sorted_pred_idx, k=3))\n",
    "    \n",
    "    return np.mean(results)"
   ]
  },
  {
   "cell_type": "code",
   "execution_count": 19,
   "id": "dd116061-cf93-4934-8ce5-8b873f9f3cfc",
   "metadata": {},
   "outputs": [],
   "source": [
    "def lightgbm(trial):\n",
    "    params = {\n",
    "        'objective': 'multiclass',\n",
    "        'boosting_type': 'gbdt',\n",
    "        'metric': 'multi_logloss',\n",
    "        'n_estimators': trial.suggest_int('n_estimators', 10, 500),\n",
    "        'max_depth': trial.suggest_int('max_depth', 1, 50),\n",
    "        'num_leaves': trial.suggest_int('num_leaves', 2, 100),\n",
    "        'learning_rate': trial.suggest_loguniform('learning_rate', 0.001, 0.1),\n",
    "        'min_child_samples': trial.suggest_int('min_child_samples', 1, 100),\n",
    "        'subsample': trial.suggest_uniform('subsample', 0.1, 1),\n",
    "        'colsample_bytree': trial.suggest_uniform('colsample_bytree', 0.1, 1),\n",
    "        'reg_alpha': trial.suggest_loguniform('reg_alpha', 1e-9, 10.0),\n",
    "        'reg_lambda': trial.suggest_loguniform('reg_lambda', 1e-9, 10.0),\n",
    "        'random_state': 0\n",
    "    }\n",
    "\n",
    "    model = LGBMClassifier(**params)\n",
    "\n",
    "    results = []\n",
    "    \n",
    "    for i, (train_index, test_index) in enumerate(rskf.split(X, y)):\n",
    "        X_train, X_test = X.iloc[train_index], X.iloc[test_index]\n",
    "        y_train, y_test = y[train_index], y[test_index]\n",
    "        \n",
    "        model.fit(X_train, y_train)\n",
    "        y_pred = model.predict_proba(X_test)\n",
    "\n",
    "        sorted_pred_idx = np.argsort(-y_pred, axis=1)[:,:3]\n",
    "        original_shape = sorted_pred_idx.shape\n",
    "        top3_pred = encoder.inverse_transform(sorted_pred_idx.reshape(-1,1))\n",
    "        top3_pred = top3_pred.reshape(original_shape)\n",
    "        results.append(mapk(y_test.reshape(-1, 1), sorted_pred_idx, k=3))\n",
    "    \n",
    "    return np.mean(results)"
   ]
  },
  {
   "cell_type": "code",
   "execution_count": 20,
   "id": "7915b3fe-4fb0-4d7e-8951-6589dce52594",
   "metadata": {
    "tags": []
   },
   "outputs": [
    {
     "name": "stderr",
     "output_type": "stream",
     "text": [
      "\u001b[32m[I 2023-04-28 23:26:03,608]\u001b[0m A new study created in memory with name: no-name-7fa36a06-e35b-4ec4-88c1-18f9294e41d4\u001b[0m\n"
     ]
    },
    {
     "data": {
      "text/plain": [
       "{'solver': 'lsqr', 'tol': 2.5966562393908653e-05}"
      ]
     },
     "execution_count": 20,
     "metadata": {},
     "output_type": "execute_result"
    }
   ],
   "source": [
    "# study = optuna.create_study(direction='maximize')\n",
    "# optuna.logging.set_verbosity(optuna.logging.WARNING)\n",
    "# study.optimize(lda, n_trials=100)\n",
    "# study.best_params"
   ]
  },
  {
   "cell_type": "code",
   "execution_count": 21,
   "id": "9f04f80e-53a4-4ad8-8fdc-b3626c25643f",
   "metadata": {
    "tags": []
   },
   "outputs": [
    {
     "data": {
      "text/plain": [
       "{'alpha': 486, 'tol': 0.0014398635972594188}"
      ]
     },
     "execution_count": 21,
     "metadata": {},
     "output_type": "execute_result"
    }
   ],
   "source": [
    "# study = optuna.create_study(direction='maximize')\n",
    "# optuna.logging.set_verbosity(optuna.logging.WARNING)\n",
    "# study.optimize(ridge, n_trials=100)\n",
    "# study.best_params"
   ]
  },
  {
   "cell_type": "code",
   "execution_count": 22,
   "id": "23e72fc0-9808-4ac9-ad1c-04b7f4aeef64",
   "metadata": {},
   "outputs": [
    {
     "data": {
      "text/plain": [
       "{'C': 215.45060185134096,\n",
       " 'solver': 'saga',\n",
       " 'multi_class': 'multinomial',\n",
       " 'penalty': 'l2'}"
      ]
     },
     "execution_count": 22,
     "metadata": {},
     "output_type": "execute_result"
    }
   ],
   "source": [
    "# study = optuna.create_study(direction='maximize')\n",
    "# optuna.logging.set_verbosity(optuna.logging.WARNING)\n",
    "# study.optimize(lr, n_trials=100)\n",
    "# study.best_params"
   ]
  },
  {
   "cell_type": "code",
   "execution_count": 23,
   "id": "4d402fbc-7607-4a37-acdb-14fd5e571d7a",
   "metadata": {},
   "outputs": [
    {
     "data": {
      "text/plain": [
       "{'max_depth': 18,\n",
       " 'n_estimators': 446,\n",
       " 'min_samples_leaf': 3,\n",
       " 'min_samples_split': 41}"
      ]
     },
     "execution_count": 23,
     "metadata": {},
     "output_type": "execute_result"
    }
   ],
   "source": [
    "# study = optuna.create_study(direction='maximize')\n",
    "# optuna.logging.set_verbosity(optuna.logging.WARNING)\n",
    "# study.optimize(rf, n_trials=100)\n",
    "# study.best_params"
   ]
  },
  {
   "cell_type": "code",
   "execution_count": 24,
   "id": "d1702308-cbb3-4cf3-9b15-71474e8b3f52",
   "metadata": {},
   "outputs": [
    {
     "data": {
      "text/plain": [
       "{'n_estimators': 512,\n",
       " 'max_depth': 7,\n",
       " 'learning_rate': 0.005243083046118347,\n",
       " 'subsample': 0.4982751538216017,\n",
       " 'colsample_bytree': 0.7694953809888724,\n",
       " 'reg_alpha': 0.027504512835287074,\n",
       " 'reg_lambda': 0.012682982755744632,\n",
       " 'gamma': 1.6811767926664402e-10,\n",
       " 'min_child_weight': 9}"
      ]
     },
     "execution_count": 24,
     "metadata": {},
     "output_type": "execute_result"
    }
   ],
   "source": [
    "# study = optuna.create_study(direction='maximize')\n",
    "# optuna.logging.set_verbosity(optuna.logging.WARNING)\n",
    "# study.optimize(xgb, n_trials=100)\n",
    "# study.best_params"
   ]
  },
  {
   "cell_type": "code",
   "execution_count": 25,
   "id": "b398c88c-bcce-49bc-96de-f7f4e45dba9e",
   "metadata": {},
   "outputs": [
    {
     "data": {
      "text/plain": [
       "{'max_depth': 48,\n",
       " 'n_estimators': 44,\n",
       " 'min_samples_leaf': 5,\n",
       " 'min_samples_split': 74,\n",
       " 'max_features': None}"
      ]
     },
     "execution_count": 25,
     "metadata": {},
     "output_type": "execute_result"
    }
   ],
   "source": [
    "# study = optuna.create_study(direction='maximize')\n",
    "# optuna.logging.set_verbosity(optuna.logging.WARNING)\n",
    "# study.optimize(et, n_trials=100)\n",
    "# study.best_params"
   ]
  },
  {
   "cell_type": "code",
   "execution_count": 26,
   "id": "0be86627-57b2-4783-b40e-af9a41d00220",
   "metadata": {},
   "outputs": [
    {
     "data": {
      "text/plain": [
       "{'max_depth': 2,\n",
       " 'learning_rate': 0.009155436031388185,\n",
       " 'n_estimators': 415,\n",
       " 'min_samples_leaf': 74,\n",
       " 'max_leaf_nodes': 10}"
      ]
     },
     "execution_count": 26,
     "metadata": {},
     "output_type": "execute_result"
    }
   ],
   "source": [
    "# study = optuna.create_study(direction='maximize')\n",
    "# optuna.logging.set_verbosity(optuna.logging.WARNING)\n",
    "# study.optimize(gbc, n_trials=100)\n",
    "# study.best_params"
   ]
  },
  {
   "cell_type": "code",
   "execution_count": 27,
   "id": "37af4728-8a57-451c-90fe-aaa21698a734",
   "metadata": {
    "tags": []
   },
   "outputs": [
    {
     "data": {
      "text/plain": [
       "{'n_estimators': 209,\n",
       " 'max_depth': 47,\n",
       " 'num_leaves': 46,\n",
       " 'learning_rate': 0.015615796678285741,\n",
       " 'min_child_samples': 97,\n",
       " 'subsample': 0.5839657165946931,\n",
       " 'colsample_bytree': 0.7748930946250282,\n",
       " 'reg_alpha': 2.309901295457889,\n",
       " 'reg_lambda': 1.6941870192099517e-07}"
      ]
     },
     "execution_count": 27,
     "metadata": {},
     "output_type": "execute_result"
    }
   ],
   "source": [
    "# study = optuna.create_study(direction='maximize')\n",
    "# optuna.logging.set_verbosity(optuna.logging.WARNING)\n",
    "# study.optimize(lightgbm, n_trials=100)\n",
    "# study.best_params"
   ]
  },
  {
   "cell_type": "code",
   "execution_count": 29,
   "id": "ae5764ac-5afd-401c-b6a7-a642ad3448fc",
   "metadata": {},
   "outputs": [],
   "source": [
    "lda_params = {\n",
    "    'solver': 'lsqr', \n",
    "    'tol': 2.5966562393908653e-05\n",
    "}\n",
    "\n",
    "ridge_params = {\n",
    "    'alpha': 486, \n",
    "    'tol': 0.0014398635972594188\n",
    "}\n",
    "\n",
    "lr_params = {\n",
    "    'C': 215.45060185134096,\n",
    "    'solver': 'saga',\n",
    "    'multi_class': 'multinomial',\n",
    "    'penalty': 'l2'\n",
    "}\n",
    "\n",
    "rf_params = {\n",
    "    'max_depth': 18,\n",
    "    'n_estimators': 446,\n",
    "    'min_samples_leaf': 3,\n",
    "    'min_samples_split': 41\n",
    "}\n",
    "\n",
    "xgb_params = {\n",
    "    'n_estimators': 512,\n",
    "    'max_depth': 7,\n",
    "    'learning_rate': 0.005243083046118347,\n",
    "    'subsample': 0.4982751538216017,\n",
    "    'colsample_bytree': 0.7694953809888724,\n",
    "    'reg_alpha': 0.027504512835287074,\n",
    "    'reg_lambda': 0.012682982755744632,\n",
    "    'gamma': 1.6811767926664402e-10,\n",
    "    'min_child_weight': 9,\n",
    "    'eval_metric': 'mlogloss'\n",
    "}\n",
    "\n",
    "et_params = {\n",
    "    'max_depth': 48,\n",
    "    'n_estimators': 44,\n",
    "    'min_samples_leaf': 5,\n",
    "    'min_samples_split': 74,\n",
    "    'max_features': None\n",
    "}\n",
    "\n",
    "gbc_params = {\n",
    "    'max_depth': 2,\n",
    "    'learning_rate': 0.009155436031388185,\n",
    "    'n_estimators': 415,\n",
    "    'min_samples_leaf': 74,\n",
    "    'max_leaf_nodes': 10\n",
    "}\n",
    "\n",
    "lightgbm_params = {\n",
    "    'n_estimators': 209,\n",
    "    'max_depth': 47,\n",
    "    'num_leaves': 46,\n",
    "    'learning_rate': 0.015615796678285741,\n",
    "    'min_child_samples': 97,\n",
    "    'subsample': 0.5839657165946931,\n",
    "    'colsample_bytree': 0.7748930946250282,\n",
    "    'reg_alpha': 2.309901295457889,\n",
    "    'reg_lambda': 1.6941870192099517e-07\n",
    "}"
   ]
  },
  {
   "cell_type": "code",
   "execution_count": 30,
   "id": "a334275d-47c9-491b-bad7-823c8e7a763c",
   "metadata": {
    "jupyter": {
     "source_hidden": true
    },
    "tags": []
   },
   "outputs": [],
   "source": [
    "# lda_params = {\n",
    "#     'solver': 'eigen', \n",
    "#     'tol': 2.7614720614865225e-06\n",
    "# }\n",
    "\n",
    "# ridge_params = {\n",
    "#     'alpha': 365, \n",
    "#     'tol': 0.42705446738501834\n",
    "# }\n",
    "\n",
    "# rf_params = {\n",
    "#     'max_depth': 27,\n",
    "#     'n_estimators': 430,\n",
    "#     'min_samples_leaf': 1,\n",
    "#     'min_samples_split': 28\n",
    "# }\n",
    "\n",
    "# xgb_params = {\n",
    "#     'n_estimators': 993,\n",
    "#     'max_depth': 5,\n",
    "#     'learning_rate': 0.005433316626408222,\n",
    "#     'subsample': 0.7946220685545012,\n",
    "#     'colsample_bytree': 0.23406190765836787,\n",
    "#     'reg_alpha': 5.571859953931e-07,\n",
    "#     'reg_lambda': 4.8441369828589075e-08,\n",
    "#     'gamma': 1.0396193273787708e-08,\n",
    "#     'min_child_weight': 1,\n",
    "#     'eval_metric': 'mlogloss'\n",
    "# }\n",
    "\n",
    "# et_params = {\n",
    "#     'max_depth': 100,\n",
    "#     'n_estimators': 376,\n",
    "#     'min_samples_leaf': 1,\n",
    "#     'min_samples_split': 29,\n",
    "#     'max_features': 'log2'\n",
    "# }\n",
    "\n",
    "# gbc_params = {\n",
    "#     'max_depth': 24,\n",
    "#     'learning_rate': 0.007593638696418762,\n",
    "#     'n_estimators': 335,\n",
    "#     'min_samples_leaf': 74,\n",
    "#     'max_leaf_nodes': 71\n",
    "# }"
   ]
  },
  {
   "cell_type": "code",
   "execution_count": 31,
   "id": "fa65aea4-7706-498b-a7b6-1d5909261674",
   "metadata": {},
   "outputs": [],
   "source": [
    "lda_model = LinearDiscriminantAnalysis(**lda_params)\n",
    "ridge_model = CalibratedClassifierCV(RidgeClassifier(**ridge_params), method='sigmoid')\n",
    "lr_model = LogisticRegression(**lr_params)\n",
    "rf_model = RandomForestClassifier(**rf_params)\n",
    "xgb_model = XGBClassifier(**xgb_params)\n",
    "et_model = ExtraTreesClassifier(**et_params)\n",
    "gbc_model = GradientBoostingClassifier(**gbc_params)\n",
    "lightgbm_model = LGBMClassifier(**lightgbm_params)"
   ]
  },
  {
   "cell_type": "code",
   "execution_count": 32,
   "id": "1f936e36-655e-4dba-8148-9c16c31194f0",
   "metadata": {},
   "outputs": [],
   "source": [
    "models = {\n",
    "    'lda': lda_model, \n",
    "    'ridge': ridge_model, \n",
    "    'lr': lr_model,\n",
    "    'rf': rf_model,\n",
    "    'xgb': xgb_model,\n",
    "    'et': et_model,\n",
    "    'gbc': gbc_model,\n",
    "    'lightgbm': lightgbm_model,\n",
    "}"
   ]
  },
  {
   "cell_type": "markdown",
   "id": "bc35577d-f52c-48de-9a5d-9280d185e453",
   "metadata": {},
   "source": [
    "# Models Evaluation"
   ]
  },
  {
   "cell_type": "code",
   "execution_count": 33,
   "id": "755cf9a2-7e1b-4f74-8c13-5ffa086a7b43",
   "metadata": {},
   "outputs": [],
   "source": [
    "results_ensemble_models = {}\n",
    "\n",
    "for name, model in models.items():\n",
    "    res=[]\n",
    "    for i, (train_index, test_index) in enumerate(rskf.split(X, y)):\n",
    "        X_train, X_test = X.iloc[train_index], X.iloc[test_index]\n",
    "        y_train, y_test = y[train_index], y[test_index]\n",
    "\n",
    "        model.fit(X_train, y_train)\n",
    "        y_pred = model.predict_proba(X_test)\n",
    "\n",
    "        sorted_pred_idx = np.argsort(-y_pred, axis=1)[:,:3]\n",
    "        original_shape = sorted_pred_idx.shape\n",
    "        top3_pred = encoder.inverse_transform(sorted_pred_idx.reshape(-1,1))\n",
    "        top3_pred = top3_pred.reshape(original_shape)\n",
    "        res.append(mapk(y_test.reshape(-1, 1), sorted_pred_idx, k=3))\n",
    "    results_ensemble_models[name] = res"
   ]
  },
  {
   "cell_type": "code",
   "execution_count": 34,
   "id": "7505e452-f7ba-44b5-b82f-34b19f7169d8",
   "metadata": {},
   "outputs": [
    {
     "name": "stdout",
     "output_type": "stream",
     "text": [
      "----------\n",
      "lda\n",
      "0.45621710526315795\n",
      "0.034843343941689364\n",
      "----------\n",
      "ridge\n",
      "0.45376949317738796\n",
      "0.03394711707311028\n",
      "----------\n",
      "lr\n",
      "0.46122563352826507\n",
      "0.03968868161192514\n",
      "----------\n",
      "rf\n",
      "0.46362694931773873\n",
      "0.04262901111868093\n",
      "----------\n",
      "xgb\n",
      "0.46893031189083817\n",
      "0.03644729155288192\n",
      "----------\n",
      "et\n",
      "0.4709923245614035\n",
      "0.03802588560019045\n",
      "----------\n",
      "gbc\n",
      "0.4605488547758284\n",
      "0.030948522081471686\n",
      "----------\n",
      "lightgbm\n",
      "0.45349597953216375\n",
      "0.025902998573274823\n"
     ]
    }
   ],
   "source": [
    "for name, result in results_ensemble_models.items():\n",
    "    print(\"----------\\n\" + name)\n",
    "    print(np.mean(result))\n",
    "    print(np.std(result))"
   ]
  },
  {
   "cell_type": "markdown",
   "id": "2d1bd835-0454-44d2-9a54-54fb94f2c884",
   "metadata": {},
   "source": [
    "# Bagging Ensemble"
   ]
  },
  {
   "cell_type": "code",
   "execution_count": 33,
   "id": "c36de4ed-13d7-4ba8-90ca-d5dbf9d01d2e",
   "metadata": {},
   "outputs": [],
   "source": [
    "# final_model = VotingClassifier(estimators=[('lda', lda_model), \n",
    "#                                            ('ridge', ridge_model), \n",
    "#                                            ('lr', lr_model),\n",
    "#                                            ('rf', rf_model),\n",
    "#                                            ('xgb', xgb_model),\n",
    "#                                            ('et', et_model),\n",
    "#                                            ('gbc', gbc_model), \n",
    "#                                            ('lightgbm', lightgbm_model)], \n",
    "#                                voting='soft')"
   ]
  },
  {
   "cell_type": "code",
   "execution_count": 35,
   "id": "0a38988a-1018-4bcb-b13f-9c75f759355e",
   "metadata": {},
   "outputs": [
    {
     "name": "stdout",
     "output_type": "stream",
     "text": [
      "0.47\n"
     ]
    }
   ],
   "source": [
    "final_model = VotingClassifier(estimators=[('xgb', xgb_model),\n",
    "                                           ('et', et_model)], \n",
    "                               voting='soft')\n",
    "\n",
    "results_ensemble = []\n",
    "    \n",
    "for i, (train_index, test_index) in enumerate(rskf.split(X, y)):\n",
    "    X_train, X_test = X.iloc[train_index], X.iloc[test_index]\n",
    "    y_train, y_test = y[train_index], y[test_index]\n",
    "\n",
    "    final_model.fit(X_train, y_train)\n",
    "    y_pred = final_model.predict_proba(X_test)\n",
    "\n",
    "    sorted_pred_idx = np.argsort(-y_pred, axis=1)[:,:3]\n",
    "    original_shape = sorted_pred_idx.shape\n",
    "    top3_pred = encoder.inverse_transform(sorted_pred_idx.reshape(-1,1))\n",
    "    top3_pred = top3_pred.reshape(original_shape)\n",
    "    results_ensemble.append(mapk(y_test.reshape(-1, 1), sorted_pred_idx, k=3))\n",
    "\n",
    "print(np.mean(results_ensemble))"
   ]
  },
  {
   "cell_type": "markdown",
   "id": "6481d224-b295-4200-be10-ee2635a49411",
   "metadata": {},
   "source": [
    "# Model Training"
   ]
  },
  {
   "cell_type": "code",
   "execution_count": 36,
   "id": "78f848ef-5607-4dbe-b70d-23b0ed872284",
   "metadata": {},
   "outputs": [
    {
     "data": {
      "text/plain": [
       "VotingClassifier(estimators=[('xgb',\n",
       "                              XGBClassifier(base_score=0.5, booster='gbtree',\n",
       "                                            colsample_bylevel=1,\n",
       "                                            colsample_bynode=1,\n",
       "                                            colsample_bytree=0.7694953809888724,\n",
       "                                            enable_categorical=False,\n",
       "                                            eval_metric='mlogloss',\n",
       "                                            gamma=1.6811767926664402e-10,\n",
       "                                            gpu_id=-1, importance_type=None,\n",
       "                                            interaction_constraints='',\n",
       "                                            learning_rate=0.005243083046118347,\n",
       "                                            max_delta_step=0, max_de...\n",
       "                                                   class_weight=None,\n",
       "                                                   criterion='gini',\n",
       "                                                   max_depth=48,\n",
       "                                                   max_features=None,\n",
       "                                                   max_leaf_nodes=None,\n",
       "                                                   max_samples=None,\n",
       "                                                   min_impurity_decrease=0.0,\n",
       "                                                   min_samples_leaf=5,\n",
       "                                                   min_samples_split=74,\n",
       "                                                   min_weight_fraction_leaf=0.0,\n",
       "                                                   n_estimators=44, n_jobs=None,\n",
       "                                                   oob_score=False,\n",
       "                                                   random_state=None, verbose=0,\n",
       "                                                   warm_start=False))],\n",
       "                 flatten_transform=True, n_jobs=None, verbose=False,\n",
       "                 voting='soft', weights=None)"
      ]
     },
     "execution_count": 36,
     "metadata": {},
     "output_type": "execute_result"
    }
   ],
   "source": [
    "final_model.fit(X, y)"
   ]
  },
  {
   "cell_type": "markdown",
   "id": "c5234ee7-ae92-4754-8f98-19cc3eb79643",
   "metadata": {},
   "source": [
    "# Prediction"
   ]
  },
  {
   "cell_type": "code",
   "execution_count": 37,
   "id": "4b4f767e-e67b-4033-a6bc-6cd6e381e67b",
   "metadata": {},
   "outputs": [],
   "source": [
    "final_predictions = final_model.predict_proba(pd.DataFrame(pca.fit_transform(test), columns=pca_column_names))\n",
    "\n",
    "sorted_pred_idx = np.argsort(-final_predictions, axis=1)[:,:3]\n",
    "original_shape = sorted_pred_idx.shape\n",
    "top3_pred = encoder.inverse_transform(sorted_pred_idx.reshape(-1,1))\n",
    "top3_pred = top3_pred.reshape(original_shape)"
   ]
  },
  {
   "cell_type": "markdown",
   "id": "a54c1dee-2041-4fb3-9aa9-6204428ccdcd",
   "metadata": {},
   "source": [
    "# Submission"
   ]
  },
  {
   "cell_type": "code",
   "execution_count": 38,
   "id": "01744e02-5e7a-4f3a-8780-35c9a97b88f3",
   "metadata": {},
   "outputs": [],
   "source": [
    "submission = pd.read_csv('sample_submission.csv')\n",
    "submission['prognosis'] = np.apply_along_axis(lambda x: np.array(' '.join(x), dtype=\"object\"), 1, top3_pred)\n",
    "submission.to_csv('submission_bagging_model_with_original_pca.csv', columns=['id', 'prognosis'], index=False)"
   ]
  },
  {
   "cell_type": "code",
   "execution_count": null,
   "id": "b387206e-c929-450c-a8b7-c008b0691bf8",
   "metadata": {},
   "outputs": [],
   "source": []
  }
 ],
 "metadata": {
  "kernelspec": {
   "display_name": "Python 3 (ipykernel)",
   "language": "python",
   "name": "python3"
  },
  "language_info": {
   "codemirror_mode": {
    "name": "ipython",
    "version": 3
   },
   "file_extension": ".py",
   "mimetype": "text/x-python",
   "name": "python",
   "nbconvert_exporter": "python",
   "pygments_lexer": "ipython3",
   "version": "3.7.15"
  }
 },
 "nbformat": 4,
 "nbformat_minor": 5
}
