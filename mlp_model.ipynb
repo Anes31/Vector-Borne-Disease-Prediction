{
 "cells": [
  {
   "cell_type": "code",
   "execution_count": 1,
   "id": "f62d0b5e-b652-4d78-b710-cf59fc6240a1",
   "metadata": {},
   "outputs": [],
   "source": [
    "import pandas as pd\n",
    "import numpy as np\n",
    "\n",
    "from sklearn.model_selection import StratifiedKFold, train_test_split\n",
    "from sklearn.preprocessing import LabelEncoder\n",
    "from sklearn.metrics import log_loss\n",
    "\n",
    "from keras.utils import to_categorical\n",
    "from keras.models import Sequential\n",
    "from keras.layers import Dense\n",
    "from keras_tuner import RandomSearch\n",
    "from keras_tuner import Objective\n",
    "\n",
    "import tensorflow as tf\n",
    "import tensorflow_ranking as tfr\n",
    "from tensorflow.keras.optimizers import Adam\n",
    "from tensorflow.keras.regularizers import L2"
   ]
  },
  {
   "cell_type": "markdown",
   "id": "1fa67a04-088b-4b4d-8815-36f6f666e0d6",
   "metadata": {},
   "source": [
    "# Load data"
   ]
  },
  {
   "cell_type": "code",
   "execution_count": 2,
   "id": "fba91969-ff40-4993-a22c-1f096d18eb93",
   "metadata": {},
   "outputs": [],
   "source": [
    "train = pd.read_csv('train.csv', index_col='id')\n",
    "original = pd.read_csv('original.csv')\n",
    "test = pd.read_csv('test.csv', index_col='id')"
   ]
  },
  {
   "cell_type": "markdown",
   "id": "c9c35f05-66b3-4ce5-8b80-1772174011a4",
   "metadata": {},
   "source": [
    "# Combine Train with Original"
   ]
  },
  {
   "cell_type": "code",
   "execution_count": 3,
   "id": "6ef6c979-7996-4eb1-bae2-7d4d9570fd85",
   "metadata": {},
   "outputs": [],
   "source": [
    "original.prognosis = original.prognosis.str.replace(' ', '_')\n",
    "train_final = pd.concat([train, original])"
   ]
  },
  {
   "cell_type": "markdown",
   "id": "d431ab19-4149-4b59-952e-3215cc729ad8",
   "metadata": {},
   "source": [
    "# Split Features And Target"
   ]
  },
  {
   "cell_type": "code",
   "execution_count": 4,
   "id": "19c8251f-69ff-4a25-9d42-c6a35b99bf1a",
   "metadata": {},
   "outputs": [],
   "source": [
    "X = train_final.drop('prognosis', axis=1)\n",
    "y = train_final.prognosis"
   ]
  },
  {
   "cell_type": "markdown",
   "id": "99d5babc-bb58-40c8-896a-4a75fd636a09",
   "metadata": {},
   "source": [
    "# Feature Engineering"
   ]
  },
  {
   "cell_type": "code",
   "execution_count": 5,
   "id": "7dceb1e8-fb4c-49fb-8548-7cb5fba03147",
   "metadata": {},
   "outputs": [],
   "source": [
    "similar_columns = ['loss_of_appetite', 'urination_loss', 'slow_heart_rate', 'abdominal_pain', 'light_sensitivity', 'yellow_skin', 'yellow_eyes']\n",
    "X['similar_cluster'] = X[similar_columns].sum(axis=1)\n",
    "test['similar_cluster'] = test[similar_columns].sum(axis=1)\n",
    "\n",
    "lyme_columns = ['jaundice', 'weight_loss', 'weakness', 'back_pain', 'sudden_fever', 'myalgia', 'chills', 'orbital_pain', 'digestion_trouble']\n",
    "X['lyme_cluster'] = X[lyme_columns].sum(axis=1)\n",
    "test['lyme_cluster'] = test[lyme_columns].sum(axis=1)\n",
    "\n",
    "tungiasis_columns = ['ulcers', 'toenail_loss', 'itchiness']\n",
    "X['tungiasis_cluster'] = X[tungiasis_columns].sum(axis=1)\n",
    "test['tungiasis_cluster'] = test[tungiasis_columns].sum(axis=1)\n",
    "\n",
    "chikungunya_columns = ['convulsion', 'finger_inflammation', 'speech_problem', 'toenail_loss', 'ulcers', 'itchiness', 'lips_irritation', 'breathing_restriction', 'toe_inflammation', 'paralysis', 'stomach_pain', 'confusion', 'irritability', 'bullseye_rash']\n",
    "X['chikungunya_cluster'] = X[chikungunya_columns].sum(axis=1)\n",
    "test['chikungunya_cluster'] = test[chikungunya_columns].sum(axis=1)"
   ]
  },
  {
   "cell_type": "markdown",
   "id": "3f7a6def-53ba-45b7-a939-d3f968b07338",
   "metadata": {},
   "source": [
    "# Target transformation"
   ]
  },
  {
   "cell_type": "code",
   "execution_count": 6,
   "id": "c7ce96f8-70ba-49ff-95d5-9a836eb76e73",
   "metadata": {},
   "outputs": [],
   "source": [
    "encoder = LabelEncoder()\n",
    "y = encoder.fit_transform(y)\n",
    "\n",
    "y = to_categorical(y, num_classes=11)"
   ]
  },
  {
   "cell_type": "markdown",
   "id": "565b4bdc-ae7c-4f5a-821c-1c6b157c4346",
   "metadata": {},
   "source": [
    "# Evaluation Metrics"
   ]
  },
  {
   "cell_type": "code",
   "execution_count": 7,
   "id": "beb36e2a-879f-42b5-9089-1add94488180",
   "metadata": {},
   "outputs": [],
   "source": [
    "def map3(y_true, y_pred, **kwargs):\n",
    "    map3_metric = tfr.keras.metrics.MeanAveragePrecisionMetric(topn=3)\n",
    "    return map3_metric(\n",
    "        y_true,\n",
    "        y_pred, **kwargs).numpy()\n",
    "\n",
    "\n",
    "def map3_from_logloss(y_enc, preds):\n",
    "    # evaluate against competition training data only\n",
    "    return map3(y_enc, preds)\n",
    "\n",
    "def fold_logloss(y_enc, preds):\n",
    "    # evaluate against competition training data only\n",
    "    return log_loss(y_enc, preds)"
   ]
  },
  {
   "cell_type": "markdown",
   "id": "63b5f02f-9616-40ba-8065-e748fe218cb3",
   "metadata": {},
   "source": [
    "# Define MLP model"
   ]
  },
  {
   "cell_type": "code",
   "execution_count": 11,
   "id": "02b5afa6-dfc3-46d7-99e8-2d82e20532d1",
   "metadata": {},
   "outputs": [
    {
     "name": "stdout",
     "output_type": "stream",
     "text": [
      "Trial 2 Complete [00h 00m 00s]\n",
      "\n",
      "Best val_mean_average_precision_metric So Far: None\n",
      "Total elapsed time: 00h 00m 00s\n",
      "\n",
      "Search: Running Trial #3\n",
      "\n",
      "Value             |Best Value So Far |Hyperparameter\n",
      "32                |224               |units_input\n",
      "1                 |3                 |num_hidden_layers\n",
      "0.00292           |0.00016308        |learning_rate\n",
      "160               |32                |units_0\n",
      "tanh              |relu              |activation_0\n",
      "288               |32                |units_1\n",
      "tanh              |relu              |activation_1\n",
      "192               |32                |units_2\n",
      "sigmoid           |relu              |activation_2\n",
      "\n"
     ]
    },
    {
     "name": "stderr",
     "output_type": "stream",
     "text": [
      "Traceback (most recent call last):\n",
      "  File \"C:\\Users\\Anes3\\AppData\\Roaming\\Python\\Python37\\site-packages\\keras_tuner\\engine\\base_tuner.py\", line 270, in _try_run_and_update_trial\n",
      "    self._run_and_update_trial(trial, *fit_args, **fit_kwargs)\n",
      "  File \"C:\\Users\\Anes3\\AppData\\Roaming\\Python\\Python37\\site-packages\\keras_tuner\\engine\\base_tuner.py\", line 235, in _run_and_update_trial\n",
      "    results = self.run_trial(trial, *fit_args, **fit_kwargs)\n",
      "  File \"C:\\Users\\Anes3\\AppData\\Roaming\\Python\\Python37\\site-packages\\keras_tuner\\engine\\tuner.py\", line 287, in run_trial\n",
      "    obj_value = self._build_and_fit_model(trial, *args, **copied_kwargs)\n",
      "  File \"C:\\Users\\Anes3\\AppData\\Roaming\\Python\\Python37\\site-packages\\keras_tuner\\engine\\tuner.py\", line 214, in _build_and_fit_model\n",
      "    results = self.hypermodel.fit(hp, model, *args, **kwargs)\n",
      "  File \"C:\\Users\\Anes3\\AppData\\Roaming\\Python\\Python37\\site-packages\\keras_tuner\\engine\\hypermodel.py\", line 144, in fit\n",
      "    return model.fit(*args, **kwargs)\n",
      "  File \"C:\\Users\\Anes3\\Anaconda3\\lib\\site-packages\\keras\\utils\\traceback_utils.py\", line 70, in error_handler\n",
      "    raise e.with_traceback(filtered_tb) from None\n",
      "  File \"C:\\Users\\Anes3\\Anaconda3\\lib\\site-packages\\keras\\utils\\traceback_utils.py\", line 65, in error_handler\n",
      "    return fn(*args, **kwargs)\n",
      "TypeError: fit() got an unexpected keyword argument 'cv'\n"
     ]
    },
    {
     "ename": "RuntimeError",
     "evalue": "Number of consecutive failures excceeded the limit of 3.\nTraceback (most recent call last):\n  File \"C:\\Users\\Anes3\\AppData\\Roaming\\Python\\Python37\\site-packages\\keras_tuner\\engine\\base_tuner.py\", line 270, in _try_run_and_update_trial\n    self._run_and_update_trial(trial, *fit_args, **fit_kwargs)\n  File \"C:\\Users\\Anes3\\AppData\\Roaming\\Python\\Python37\\site-packages\\keras_tuner\\engine\\base_tuner.py\", line 235, in _run_and_update_trial\n    results = self.run_trial(trial, *fit_args, **fit_kwargs)\n  File \"C:\\Users\\Anes3\\AppData\\Roaming\\Python\\Python37\\site-packages\\keras_tuner\\engine\\tuner.py\", line 287, in run_trial\n    obj_value = self._build_and_fit_model(trial, *args, **copied_kwargs)\n  File \"C:\\Users\\Anes3\\AppData\\Roaming\\Python\\Python37\\site-packages\\keras_tuner\\engine\\tuner.py\", line 214, in _build_and_fit_model\n    results = self.hypermodel.fit(hp, model, *args, **kwargs)\n  File \"C:\\Users\\Anes3\\AppData\\Roaming\\Python\\Python37\\site-packages\\keras_tuner\\engine\\hypermodel.py\", line 144, in fit\n    return model.fit(*args, **kwargs)\n  File \"C:\\Users\\Anes3\\Anaconda3\\lib\\site-packages\\keras\\utils\\traceback_utils.py\", line 70, in error_handler\n    raise e.with_traceback(filtered_tb) from None\n  File \"C:\\Users\\Anes3\\Anaconda3\\lib\\site-packages\\keras\\utils\\traceback_utils.py\", line 65, in error_handler\n    return fn(*args, **kwargs)\nTypeError: fit() got an unexpected keyword argument 'cv'\n",
     "output_type": "error",
     "traceback": [
      "\u001b[1;31m---------------------------------------------------------------------------\u001b[0m",
      "\u001b[1;31mRuntimeError\u001b[0m                              Traceback (most recent call last)",
      "\u001b[1;32m~\\AppData\\Local\\Temp\\ipykernel_15888\\1236288578.py\u001b[0m in \u001b[0;36m<module>\u001b[1;34m\u001b[0m\n\u001b[0;32m     22\u001b[0m \u001b[0mcv\u001b[0m \u001b[1;33m=\u001b[0m \u001b[0mStratifiedKFold\u001b[0m\u001b[1;33m(\u001b[0m\u001b[0mn_splits\u001b[0m\u001b[1;33m=\u001b[0m\u001b[1;36m5\u001b[0m\u001b[1;33m,\u001b[0m \u001b[0mshuffle\u001b[0m\u001b[1;33m=\u001b[0m\u001b[1;32mTrue\u001b[0m\u001b[1;33m,\u001b[0m \u001b[0mrandom_state\u001b[0m\u001b[1;33m=\u001b[0m\u001b[1;36m0\u001b[0m\u001b[1;33m)\u001b[0m\u001b[1;33m\u001b[0m\u001b[1;33m\u001b[0m\u001b[0m\n\u001b[0;32m     23\u001b[0m \u001b[1;33m\u001b[0m\u001b[0m\n\u001b[1;32m---> 24\u001b[1;33m \u001b[0mtuner\u001b[0m\u001b[1;33m.\u001b[0m\u001b[0msearch\u001b[0m\u001b[1;33m(\u001b[0m\u001b[0mX\u001b[0m\u001b[1;33m,\u001b[0m \u001b[0my\u001b[0m\u001b[1;33m,\u001b[0m \u001b[0mepochs\u001b[0m\u001b[1;33m=\u001b[0m\u001b[1;36m15\u001b[0m\u001b[1;33m,\u001b[0m \u001b[0mbatch_size\u001b[0m\u001b[1;33m=\u001b[0m\u001b[1;36m32\u001b[0m\u001b[1;33m,\u001b[0m \u001b[0mvalidation_split\u001b[0m\u001b[1;33m=\u001b[0m\u001b[1;36m0.2\u001b[0m\u001b[1;33m,\u001b[0m \u001b[0mcv\u001b[0m\u001b[1;33m=\u001b[0m\u001b[0mcv\u001b[0m\u001b[1;33m)\u001b[0m\u001b[1;33m\u001b[0m\u001b[1;33m\u001b[0m\u001b[0m\n\u001b[0m\u001b[0;32m     25\u001b[0m \u001b[1;33m\u001b[0m\u001b[0m\n\u001b[0;32m     26\u001b[0m \u001b[1;31m# # Run the hyperparameter search with cross-validation\u001b[0m\u001b[1;33m\u001b[0m\u001b[1;33m\u001b[0m\u001b[1;33m\u001b[0m\u001b[0m\n",
      "\u001b[1;32m~\\AppData\\Roaming\\Python\\Python37\\site-packages\\keras_tuner\\engine\\base_tuner.py\u001b[0m in \u001b[0;36msearch\u001b[1;34m(self, *fit_args, **fit_kwargs)\u001b[0m\n\u001b[0;32m    229\u001b[0m             \u001b[0mself\u001b[0m\u001b[1;33m.\u001b[0m\u001b[0mon_trial_begin\u001b[0m\u001b[1;33m(\u001b[0m\u001b[0mtrial\u001b[0m\u001b[1;33m)\u001b[0m\u001b[1;33m\u001b[0m\u001b[1;33m\u001b[0m\u001b[0m\n\u001b[0;32m    230\u001b[0m             \u001b[0mself\u001b[0m\u001b[1;33m.\u001b[0m\u001b[0m_try_run_and_update_trial\u001b[0m\u001b[1;33m(\u001b[0m\u001b[0mtrial\u001b[0m\u001b[1;33m,\u001b[0m \u001b[1;33m*\u001b[0m\u001b[0mfit_args\u001b[0m\u001b[1;33m,\u001b[0m \u001b[1;33m**\u001b[0m\u001b[0mfit_kwargs\u001b[0m\u001b[1;33m)\u001b[0m\u001b[1;33m\u001b[0m\u001b[1;33m\u001b[0m\u001b[0m\n\u001b[1;32m--> 231\u001b[1;33m             \u001b[0mself\u001b[0m\u001b[1;33m.\u001b[0m\u001b[0mon_trial_end\u001b[0m\u001b[1;33m(\u001b[0m\u001b[0mtrial\u001b[0m\u001b[1;33m)\u001b[0m\u001b[1;33m\u001b[0m\u001b[1;33m\u001b[0m\u001b[0m\n\u001b[0m\u001b[0;32m    232\u001b[0m         \u001b[0mself\u001b[0m\u001b[1;33m.\u001b[0m\u001b[0mon_search_end\u001b[0m\u001b[1;33m(\u001b[0m\u001b[1;33m)\u001b[0m\u001b[1;33m\u001b[0m\u001b[1;33m\u001b[0m\u001b[0m\n\u001b[0;32m    233\u001b[0m \u001b[1;33m\u001b[0m\u001b[0m\n",
      "\u001b[1;32m~\\AppData\\Roaming\\Python\\Python37\\site-packages\\keras_tuner\\engine\\base_tuner.py\u001b[0m in \u001b[0;36mon_trial_end\u001b[1;34m(self, trial)\u001b[0m\n\u001b[0;32m    333\u001b[0m             \u001b[0mtrial\u001b[0m\u001b[1;33m:\u001b[0m \u001b[0mA\u001b[0m\u001b[0;31m \u001b[0m\u001b[0;31m`\u001b[0m\u001b[0mTrial\u001b[0m\u001b[0;31m`\u001b[0m \u001b[0minstance\u001b[0m\u001b[1;33m.\u001b[0m\u001b[1;33m\u001b[0m\u001b[1;33m\u001b[0m\u001b[0m\n\u001b[0;32m    334\u001b[0m         \"\"\"\n\u001b[1;32m--> 335\u001b[1;33m         \u001b[0mself\u001b[0m\u001b[1;33m.\u001b[0m\u001b[0moracle\u001b[0m\u001b[1;33m.\u001b[0m\u001b[0mend_trial\u001b[0m\u001b[1;33m(\u001b[0m\u001b[0mtrial\u001b[0m\u001b[1;33m)\u001b[0m\u001b[1;33m\u001b[0m\u001b[1;33m\u001b[0m\u001b[0m\n\u001b[0m\u001b[0;32m    336\u001b[0m         \u001b[1;31m# Display needs the updated trial scored by the Oracle.\u001b[0m\u001b[1;33m\u001b[0m\u001b[1;33m\u001b[0m\u001b[1;33m\u001b[0m\u001b[0m\n\u001b[0;32m    337\u001b[0m         \u001b[0mself\u001b[0m\u001b[1;33m.\u001b[0m\u001b[0m_display\u001b[0m\u001b[1;33m.\u001b[0m\u001b[0mon_trial_end\u001b[0m\u001b[1;33m(\u001b[0m\u001b[0mself\u001b[0m\u001b[1;33m.\u001b[0m\u001b[0moracle\u001b[0m\u001b[1;33m.\u001b[0m\u001b[0mget_trial\u001b[0m\u001b[1;33m(\u001b[0m\u001b[0mtrial\u001b[0m\u001b[1;33m.\u001b[0m\u001b[0mtrial_id\u001b[0m\u001b[1;33m)\u001b[0m\u001b[1;33m)\u001b[0m\u001b[1;33m\u001b[0m\u001b[1;33m\u001b[0m\u001b[0m\n",
      "\u001b[1;32m~\\AppData\\Roaming\\Python\\Python37\\site-packages\\keras_tuner\\engine\\oracle.py\u001b[0m in \u001b[0;36mwrapped_func\u001b[1;34m(*args, **kwargs)\u001b[0m\n\u001b[0;32m    105\u001b[0m             \u001b[0mLOCKS\u001b[0m\u001b[1;33m[\u001b[0m\u001b[0moracle\u001b[0m\u001b[1;33m]\u001b[0m\u001b[1;33m.\u001b[0m\u001b[0macquire\u001b[0m\u001b[1;33m(\u001b[0m\u001b[1;33m)\u001b[0m\u001b[1;33m\u001b[0m\u001b[1;33m\u001b[0m\u001b[0m\n\u001b[0;32m    106\u001b[0m             \u001b[0mTHREADS\u001b[0m\u001b[1;33m[\u001b[0m\u001b[0moracle\u001b[0m\u001b[1;33m]\u001b[0m \u001b[1;33m=\u001b[0m \u001b[0mthread_name\u001b[0m\u001b[1;33m\u001b[0m\u001b[1;33m\u001b[0m\u001b[0m\n\u001b[1;32m--> 107\u001b[1;33m         \u001b[0mret_val\u001b[0m \u001b[1;33m=\u001b[0m \u001b[0mfunc\u001b[0m\u001b[1;33m(\u001b[0m\u001b[1;33m*\u001b[0m\u001b[0margs\u001b[0m\u001b[1;33m,\u001b[0m \u001b[1;33m**\u001b[0m\u001b[0mkwargs\u001b[0m\u001b[1;33m)\u001b[0m\u001b[1;33m\u001b[0m\u001b[1;33m\u001b[0m\u001b[0m\n\u001b[0m\u001b[0;32m    108\u001b[0m         \u001b[1;32mif\u001b[0m \u001b[0mneed_acquire\u001b[0m\u001b[1;33m:\u001b[0m\u001b[1;33m\u001b[0m\u001b[1;33m\u001b[0m\u001b[0m\n\u001b[0;32m    109\u001b[0m             \u001b[0mTHREADS\u001b[0m\u001b[1;33m[\u001b[0m\u001b[0moracle\u001b[0m\u001b[1;33m]\u001b[0m \u001b[1;33m=\u001b[0m \u001b[1;32mNone\u001b[0m\u001b[1;33m\u001b[0m\u001b[1;33m\u001b[0m\u001b[0m\n",
      "\u001b[1;32m~\\AppData\\Roaming\\Python\\Python37\\site-packages\\keras_tuner\\engine\\oracle.py\u001b[0m in \u001b[0;36mend_trial\u001b[1;34m(self, trial)\u001b[0m\n\u001b[0;32m    432\u001b[0m         \u001b[1;32mif\u001b[0m \u001b[1;32mnot\u001b[0m \u001b[0mself\u001b[0m\u001b[1;33m.\u001b[0m\u001b[0m_retry\u001b[0m\u001b[1;33m(\u001b[0m\u001b[0mtrial\u001b[0m\u001b[1;33m)\u001b[0m\u001b[1;33m:\u001b[0m\u001b[1;33m\u001b[0m\u001b[1;33m\u001b[0m\u001b[0m\n\u001b[0;32m    433\u001b[0m             \u001b[0mself\u001b[0m\u001b[1;33m.\u001b[0m\u001b[0mend_order\u001b[0m\u001b[1;33m.\u001b[0m\u001b[0mappend\u001b[0m\u001b[1;33m(\u001b[0m\u001b[0mtrial\u001b[0m\u001b[1;33m.\u001b[0m\u001b[0mtrial_id\u001b[0m\u001b[1;33m)\u001b[0m\u001b[1;33m\u001b[0m\u001b[1;33m\u001b[0m\u001b[0m\n\u001b[1;32m--> 434\u001b[1;33m             \u001b[0mself\u001b[0m\u001b[1;33m.\u001b[0m\u001b[0m_check_consecutive_failures\u001b[0m\u001b[1;33m(\u001b[0m\u001b[1;33m)\u001b[0m\u001b[1;33m\u001b[0m\u001b[1;33m\u001b[0m\u001b[0m\n\u001b[0m\u001b[0;32m    435\u001b[0m \u001b[1;33m\u001b[0m\u001b[0m\n\u001b[0;32m    436\u001b[0m         \u001b[0mself\u001b[0m\u001b[1;33m.\u001b[0m\u001b[0m_save_trial\u001b[0m\u001b[1;33m(\u001b[0m\u001b[0mtrial\u001b[0m\u001b[1;33m)\u001b[0m\u001b[1;33m\u001b[0m\u001b[1;33m\u001b[0m\u001b[0m\n",
      "\u001b[1;32m~\\AppData\\Roaming\\Python\\Python37\\site-packages\\keras_tuner\\engine\\oracle.py\u001b[0m in \u001b[0;36m_check_consecutive_failures\u001b[1;34m(self)\u001b[0m\n\u001b[0;32m    387\u001b[0m                     \u001b[1;34m\"Number of consecutive failures excceeded the limit \"\u001b[0m\u001b[1;33m\u001b[0m\u001b[1;33m\u001b[0m\u001b[0m\n\u001b[0;32m    388\u001b[0m                     \u001b[1;34mf\"of {self.max_consecutive_failed_trials}.\\n\"\u001b[0m\u001b[1;33m\u001b[0m\u001b[1;33m\u001b[0m\u001b[0m\n\u001b[1;32m--> 389\u001b[1;33m                     \u001b[1;33m+\u001b[0m \u001b[0mtrial\u001b[0m\u001b[1;33m.\u001b[0m\u001b[0mmessage\u001b[0m\u001b[1;33m\u001b[0m\u001b[1;33m\u001b[0m\u001b[0m\n\u001b[0m\u001b[0;32m    390\u001b[0m                 )\n\u001b[0;32m    391\u001b[0m \u001b[1;33m\u001b[0m\u001b[0m\n",
      "\u001b[1;31mRuntimeError\u001b[0m: Number of consecutive failures excceeded the limit of 3.\nTraceback (most recent call last):\n  File \"C:\\Users\\Anes3\\AppData\\Roaming\\Python\\Python37\\site-packages\\keras_tuner\\engine\\base_tuner.py\", line 270, in _try_run_and_update_trial\n    self._run_and_update_trial(trial, *fit_args, **fit_kwargs)\n  File \"C:\\Users\\Anes3\\AppData\\Roaming\\Python\\Python37\\site-packages\\keras_tuner\\engine\\base_tuner.py\", line 235, in _run_and_update_trial\n    results = self.run_trial(trial, *fit_args, **fit_kwargs)\n  File \"C:\\Users\\Anes3\\AppData\\Roaming\\Python\\Python37\\site-packages\\keras_tuner\\engine\\tuner.py\", line 287, in run_trial\n    obj_value = self._build_and_fit_model(trial, *args, **copied_kwargs)\n  File \"C:\\Users\\Anes3\\AppData\\Roaming\\Python\\Python37\\site-packages\\keras_tuner\\engine\\tuner.py\", line 214, in _build_and_fit_model\n    results = self.hypermodel.fit(hp, model, *args, **kwargs)\n  File \"C:\\Users\\Anes3\\AppData\\Roaming\\Python\\Python37\\site-packages\\keras_tuner\\engine\\hypermodel.py\", line 144, in fit\n    return model.fit(*args, **kwargs)\n  File \"C:\\Users\\Anes3\\Anaconda3\\lib\\site-packages\\keras\\utils\\traceback_utils.py\", line 70, in error_handler\n    raise e.with_traceback(filtered_tb) from None\n  File \"C:\\Users\\Anes3\\Anaconda3\\lib\\site-packages\\keras\\utils\\traceback_utils.py\", line 65, in error_handler\n    return fn(*args, **kwargs)\nTypeError: fit() got an unexpected keyword argument 'cv'\n"
     ]
    }
   ],
   "source": [
    "def build_model(hp):\n",
    "    model = Sequential()\n",
    "    model.add(Dense(units=hp.Int('units_input', min_value=32, max_value=512, step=32), activation='relu', input_dim=X.shape[1]))\n",
    "    for i in range(hp.Int('num_hidden_layers', min_value=0, max_value=3)):\n",
    "        model.add(Dense(units=hp.Int(f'units_{i}', min_value=32, max_value=512, step=32), activation=hp.Choice(f'activation_{i}', values=['relu', 'sigmoid', 'tanh'])))\n",
    "    model.add(Dense(units=y.shape[1], activation='softmax'))\n",
    "    \n",
    "    model.compile(optimizer=Adam(learning_rate=hp.Float('learning_rate', min_value=1e-4, max_value=1e-2, sampling=\"log\")),\n",
    "                  loss='categorical_crossentropy',\n",
    "                  metrics=[tfr.keras.metrics.MeanAveragePrecisionMetric(topn=3)])\n",
    "    return model\n",
    "\n",
    "tuner = RandomSearch(build_model, \n",
    "                     objective=Objective(\"val_mean_average_precision_metric\", direction=\"max\"),\n",
    "                     max_trials=100,\n",
    "                     executions_per_trial=3,\n",
    "                     directory=f'C:/Users/Anes3/Documents/keras_tuner_dir_fold',\n",
    "                     project_name=f'my_hyperparameter_search_fold'\n",
    ")\n",
    "\n",
    "# Define the cross-validation object\n",
    "cv = StratifiedKFold(n_splits=5, shuffle=True, random_state=0)\n",
    "\n",
    "# Run the hyperparameter search with cross-validation\n",
    "for train_index, test_index in cv.split(X, y.argmax(1)):\n",
    "    X_train, X_test = X.iloc[train_index], X.iloc[test_index]\n",
    "    y_train, y_test = y[train_index], y[test_index]\n",
    "\n",
    "    tuner.search(X_train, y_train, epochs=15, batch_size=32, validation_data=(X_test, y_test))"
   ]
  },
  {
   "cell_type": "code",
   "execution_count": 12,
   "id": "18dc3b39-d977-47de-a9f6-e493acd540e4",
   "metadata": {},
   "outputs": [
    {
     "name": "stdout",
     "output_type": "stream",
     "text": [
      "Epoch 1/30\n",
      "30/30 [==============================] - 1s 7ms/step - loss: 2.3942 - mean_average_precision_metric_4: 0.1889 - val_loss: 2.2167 - val_mean_average_precision_metric_4: 0.3533\n",
      "Epoch 2/30\n",
      "30/30 [==============================] - 0s 2ms/step - loss: 2.2367 - mean_average_precision_metric_4: 0.3485 - val_loss: 2.0317 - val_mean_average_precision_metric_4: 0.4887\n",
      "Epoch 3/30\n",
      "30/30 [==============================] - 0s 2ms/step - loss: 2.0969 - mean_average_precision_metric_4: 0.4470 - val_loss: 1.9131 - val_mean_average_precision_metric_4: 0.5356\n",
      "Epoch 4/30\n",
      "30/30 [==============================] - 0s 2ms/step - loss: 2.0396 - mean_average_precision_metric_4: 0.4876 - val_loss: 1.8696 - val_mean_average_precision_metric_4: 0.5530\n",
      "Epoch 5/30\n",
      "30/30 [==============================] - 0s 2ms/step - loss: 1.9550 - mean_average_precision_metric_4: 0.5071 - val_loss: 1.7817 - val_mean_average_precision_metric_4: 0.5799\n",
      "Epoch 6/30\n",
      "30/30 [==============================] - 0s 2ms/step - loss: 1.8956 - mean_average_precision_metric_4: 0.5288 - val_loss: 1.7237 - val_mean_average_precision_metric_4: 0.6111\n",
      "Epoch 7/30\n",
      "30/30 [==============================] - 0s 2ms/step - loss: 1.8521 - mean_average_precision_metric_4: 0.5358 - val_loss: 1.7386 - val_mean_average_precision_metric_4: 0.6042\n",
      "Epoch 8/30\n",
      "30/30 [==============================] - 0s 2ms/step - loss: 1.7940 - mean_average_precision_metric_4: 0.5517 - val_loss: 1.6898 - val_mean_average_precision_metric_4: 0.6085\n",
      "Epoch 9/30\n",
      "30/30 [==============================] - 0s 2ms/step - loss: 1.7636 - mean_average_precision_metric_4: 0.5626 - val_loss: 1.6497 - val_mean_average_precision_metric_4: 0.6233\n",
      "Epoch 10/30\n",
      "30/30 [==============================] - 0s 2ms/step - loss: 1.7595 - mean_average_precision_metric_4: 0.5572 - val_loss: 1.6551 - val_mean_average_precision_metric_4: 0.6345\n",
      "Epoch 11/30\n",
      "30/30 [==============================] - 0s 2ms/step - loss: 1.6849 - mean_average_precision_metric_4: 0.5982 - val_loss: 1.6450 - val_mean_average_precision_metric_4: 0.6102\n",
      "Epoch 12/30\n",
      "30/30 [==============================] - 0s 2ms/step - loss: 1.6969 - mean_average_precision_metric_4: 0.5776 - val_loss: 1.6262 - val_mean_average_precision_metric_4: 0.6137\n",
      "Epoch 13/30\n",
      "30/30 [==============================] - 0s 2ms/step - loss: 1.6563 - mean_average_precision_metric_4: 0.6013 - val_loss: 1.6038 - val_mean_average_precision_metric_4: 0.6380\n",
      "Epoch 14/30\n",
      "30/30 [==============================] - 0s 2ms/step - loss: 1.6693 - mean_average_precision_metric_4: 0.5902 - val_loss: 1.6029 - val_mean_average_precision_metric_4: 0.6328\n",
      "Epoch 15/30\n",
      "30/30 [==============================] - 0s 2ms/step - loss: 1.5885 - mean_average_precision_metric_4: 0.6232 - val_loss: 1.6018 - val_mean_average_precision_metric_4: 0.6302\n",
      "Epoch 16/30\n",
      "30/30 [==============================] - 0s 2ms/step - loss: 1.5992 - mean_average_precision_metric_4: 0.6180 - val_loss: 1.5767 - val_mean_average_precision_metric_4: 0.6137\n",
      "Epoch 17/30\n",
      "30/30 [==============================] - 0s 2ms/step - loss: 1.5744 - mean_average_precision_metric_4: 0.6281 - val_loss: 1.6009 - val_mean_average_precision_metric_4: 0.6233\n",
      "Epoch 18/30\n",
      "30/30 [==============================] - 0s 2ms/step - loss: 1.5414 - mean_average_precision_metric_4: 0.6296 - val_loss: 1.5892 - val_mean_average_precision_metric_4: 0.6163\n",
      "Epoch 19/30\n",
      "30/30 [==============================] - 0s 2ms/step - loss: 1.5824 - mean_average_precision_metric_4: 0.6222 - val_loss: 1.5787 - val_mean_average_precision_metric_4: 0.6189\n",
      "Epoch 20/30\n",
      "30/30 [==============================] - 0s 2ms/step - loss: 1.4996 - mean_average_precision_metric_4: 0.6475 - val_loss: 1.5693 - val_mean_average_precision_metric_4: 0.6094\n",
      "Epoch 21/30\n",
      "30/30 [==============================] - 0s 2ms/step - loss: 1.4961 - mean_average_precision_metric_4: 0.6482 - val_loss: 1.5731 - val_mean_average_precision_metric_4: 0.6042\n",
      "Epoch 22/30\n",
      "30/30 [==============================] - 0s 2ms/step - loss: 1.4908 - mean_average_precision_metric_4: 0.6477 - val_loss: 1.5903 - val_mean_average_precision_metric_4: 0.6042\n",
      "Epoch 23/30\n",
      "30/30 [==============================] - 0s 2ms/step - loss: 1.4542 - mean_average_precision_metric_4: 0.6717 - val_loss: 1.5612 - val_mean_average_precision_metric_4: 0.6059\n",
      "Epoch 24/30\n",
      "30/30 [==============================] - 0s 2ms/step - loss: 1.4674 - mean_average_precision_metric_4: 0.6590 - val_loss: 1.5728 - val_mean_average_precision_metric_4: 0.6007\n",
      "Epoch 25/30\n",
      "WARNING:tensorflow:Your input ran out of data; interrupting training. Make sure that your dataset or generator can generate at least `steps_per_epoch * epochs` batches (in this case, 900 batches). You may need to use the repeat() function when building your dataset.\n",
      "30/30 [==============================] - 0s 1ms/step - loss: 0.0000e+00 - mean_average_precision_metric_4: 0.0000e+00 - val_loss: 1.5728 - val_mean_average_precision_metric_4: 0.6007\n"
     ]
    }
   ],
   "source": [
    "# Get the best hyperparameters and model\n",
    "best_hps = tuner.get_best_hyperparameters(num_trials=1)[0]\n",
    "model = tuner.hypermodel.build(best_hps)\n",
    "\n",
    "# Train the final model on the entire dataset\n",
    "history = model.fit(X, y, epochs=30, batch_size=32, steps_per_epoch=X.shape[0]//32+1, validation_split=0.2)"
   ]
  },
  {
   "cell_type": "code",
   "execution_count": 10,
   "id": "5c5c3664-7679-43ff-a60c-a03970efdb2a",
   "metadata": {},
   "outputs": [
    {
     "name": "stdout",
     "output_type": "stream",
     "text": [
      "30/30 [==============================] - 0s 2ms/step\n"
     ]
    }
   ],
   "source": [
    "y_pred_train = model.predict(X)\n",
    "sorted_pred_idx = np.argsort(-y_pred_train, axis=1)[:,:3]\n",
    "original_shape = sorted_pred_idx.shape\n",
    "top3_pred = encoder.inverse_transform(sorted_pred_idx.reshape(-1,1).ravel())\n",
    "top3_pred = top3_pred.reshape(original_shape)"
   ]
  },
  {
   "cell_type": "code",
   "execution_count": 11,
   "id": "3d12c6c0-33cc-4371-8d6e-9b4d5c38f694",
   "metadata": {},
   "outputs": [
    {
     "data": {
      "text/plain": [
       "0.76485914"
      ]
     },
     "execution_count": 11,
     "metadata": {},
     "output_type": "execute_result"
    }
   ],
   "source": [
    "map3(y, y_pred_train)"
   ]
  },
  {
   "cell_type": "code",
   "execution_count": 12,
   "id": "c77bd468-d23b-4e99-9654-9709b3c77a09",
   "metadata": {},
   "outputs": [
    {
     "data": {
      "text/plain": [
       "0.76485914"
      ]
     },
     "execution_count": 12,
     "metadata": {},
     "output_type": "execute_result"
    }
   ],
   "source": [
    "map3(y, y_pred_train)"
   ]
  },
  {
   "cell_type": "markdown",
   "id": "c5234ee7-ae92-4754-8f98-19cc3eb79643",
   "metadata": {},
   "source": [
    "# Prediction"
   ]
  },
  {
   "cell_type": "code",
   "execution_count": 13,
   "id": "fdd81884-6bef-43c7-9d54-4ce89f6a46bd",
   "metadata": {},
   "outputs": [
    {
     "name": "stdout",
     "output_type": "stream",
     "text": [
      "10/10 [==============================] - 0s 2ms/step\n"
     ]
    }
   ],
   "source": [
    "y_pred = model.predict(test)\n",
    "sorted_pred_idx = np.argsort(-y_pred, axis=1)[:,:3]\n",
    "original_shape = sorted_pred_idx.shape\n",
    "top3_pred = encoder.inverse_transform(sorted_pred_idx.reshape(-1,1).ravel())\n",
    "top3_pred = top3_pred.reshape(original_shape)"
   ]
  },
  {
   "cell_type": "markdown",
   "id": "a54c1dee-2041-4fb3-9aa9-6204428ccdcd",
   "metadata": {},
   "source": [
    "# Submission"
   ]
  },
  {
   "cell_type": "code",
   "execution_count": 14,
   "id": "01744e02-5e7a-4f3a-8780-35c9a97b88f3",
   "metadata": {},
   "outputs": [],
   "source": [
    "submission = pd.read_csv('sample_submission.csv')\n",
    "submission['prognosis'] = np.apply_along_axis(lambda x: np.array(' '.join(x), dtype=\"object\"), 1, top3_pred)\n",
    "submission.to_csv('submission_mlp_model_feature_engineered.csv', columns=['id', 'prognosis'], index=False)"
   ]
  },
  {
   "cell_type": "code",
   "execution_count": null,
   "id": "b387206e-c929-450c-a8b7-c008b0691bf8",
   "metadata": {},
   "outputs": [],
   "source": []
  }
 ],
 "metadata": {
  "kernelspec": {
   "display_name": "Python 3 (ipykernel)",
   "language": "python",
   "name": "python3"
  },
  "language_info": {
   "codemirror_mode": {
    "name": "ipython",
    "version": 3
   },
   "file_extension": ".py",
   "mimetype": "text/x-python",
   "name": "python",
   "nbconvert_exporter": "python",
   "pygments_lexer": "ipython3",
   "version": "3.7.15"
  }
 },
 "nbformat": 4,
 "nbformat_minor": 5
}
