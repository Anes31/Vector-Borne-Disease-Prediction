{
 "cells": [
  {
   "cell_type": "code",
   "execution_count": 1,
   "id": "f62d0b5e-b652-4d78-b710-cf59fc6240a1",
   "metadata": {},
   "outputs": [],
   "source": [
    "import pandas as pd\n",
    "import numpy as np\n",
    "\n",
    "from sklearn.model_selection import StratifiedKFold, train_test_split\n",
    "from sklearn.preprocessing import LabelEncoder\n",
    "from sklearn.metrics import log_loss\n",
    "\n",
    "from keras.utils import to_categorical\n",
    "from keras.models import Sequential\n",
    "from keras.layers import Dense\n",
    "from keras_tuner import RandomSearch\n",
    "from keras_tuner import Objective\n",
    "\n",
    "import tensorflow as tf\n",
    "import tensorflow_ranking as tfr\n",
    "from tensorflow.keras.optimizers import Adam\n",
    "from tensorflow.keras.regularizers import L2"
   ]
  },
  {
   "cell_type": "markdown",
   "id": "1fa67a04-088b-4b4d-8815-36f6f666e0d6",
   "metadata": {},
   "source": [
    "# Load data"
   ]
  },
  {
   "cell_type": "code",
   "execution_count": 2,
   "id": "fba91969-ff40-4993-a22c-1f096d18eb93",
   "metadata": {},
   "outputs": [],
   "source": [
    "train = pd.read_csv('train.csv', index_col='id')\n",
    "original = pd.read_csv('original.csv')\n",
    "test = pd.read_csv('test.csv', index_col='id')"
   ]
  },
  {
   "cell_type": "markdown",
   "id": "c9c35f05-66b3-4ce5-8b80-1772174011a4",
   "metadata": {},
   "source": [
    "# Combine Train with Original"
   ]
  },
  {
   "cell_type": "code",
   "execution_count": 3,
   "id": "6ef6c979-7996-4eb1-bae2-7d4d9570fd85",
   "metadata": {},
   "outputs": [],
   "source": [
    "original.prognosis = original.prognosis.str.replace(' ', '_')\n",
    "train_final = pd.concat([train, original])"
   ]
  },
  {
   "cell_type": "markdown",
   "id": "d431ab19-4149-4b59-952e-3215cc729ad8",
   "metadata": {},
   "source": [
    "# Split Features And Target"
   ]
  },
  {
   "cell_type": "code",
   "execution_count": 4,
   "id": "19c8251f-69ff-4a25-9d42-c6a35b99bf1a",
   "metadata": {},
   "outputs": [],
   "source": [
    "X = train_final.drop('prognosis', axis=1)\n",
    "y = train_final.prognosis"
   ]
  },
  {
   "cell_type": "markdown",
   "id": "3f7a6def-53ba-45b7-a939-d3f968b07338",
   "metadata": {},
   "source": [
    "# Target transformation"
   ]
  },
  {
   "cell_type": "code",
   "execution_count": 5,
   "id": "c7ce96f8-70ba-49ff-95d5-9a836eb76e73",
   "metadata": {},
   "outputs": [],
   "source": [
    "encoder = LabelEncoder()\n",
    "y = encoder.fit_transform(y)\n",
    "\n",
    "y = to_categorical(y, num_classes=11)"
   ]
  },
  {
   "cell_type": "markdown",
   "id": "565b4bdc-ae7c-4f5a-821c-1c6b157c4346",
   "metadata": {},
   "source": [
    "# Evaluation Metrics"
   ]
  },
  {
   "cell_type": "code",
   "execution_count": 6,
   "id": "beb36e2a-879f-42b5-9089-1add94488180",
   "metadata": {},
   "outputs": [],
   "source": [
    "def map3(y_true, y_pred, **kwargs):\n",
    "    map3_metric = tfr.keras.metrics.MeanAveragePrecisionMetric(topn=3)\n",
    "    return map3_metric(\n",
    "        y_true,\n",
    "        y_pred, **kwargs).numpy()\n",
    "\n",
    "\n",
    "def map3_from_logloss(y_enc, preds):\n",
    "    # evaluate against competition training data only\n",
    "    return map3(y_enc, preds)\n",
    "\n",
    "def fold_logloss(y_enc, preds):\n",
    "    # evaluate against competition training data only\n",
    "    return log_loss(y_enc, preds)"
   ]
  },
  {
   "cell_type": "markdown",
   "id": "63b5f02f-9616-40ba-8065-e748fe218cb3",
   "metadata": {},
   "source": [
    "# Define MLP model"
   ]
  },
  {
   "cell_type": "code",
   "execution_count": 7,
   "id": "9a4fa43f-eff7-4cea-8ae4-531af592605c",
   "metadata": {},
   "outputs": [],
   "source": [
    "# X_train, X_test, y_train, y_test = train_test_split(X, y, test_size=.8, random_state=0)\n",
    "\n",
    "# model = Sequential()\n",
    "# model.add(Dense(units=128, activation='relu', input_dim=X.shape[1]))\n",
    "# model.add(Dense(units=32, activation='relu'))\n",
    "# model.add(Dense(units=y.shape[1], activation='softmax'))\n",
    "# model.compile(optimizer=Adam(), loss='categorical_crossentropy', metrics=[tfr.keras.metrics.MeanAveragePrecisionMetric(topn=3)])\n",
    "# model.fit(X_train, y_train, epochs=20, batch_size=32, steps_per_epoch=X_train.shape[0]//32+1, validation_data=(X_test, y_test))"
   ]
  },
  {
   "cell_type": "code",
   "execution_count": 8,
   "id": "02b5afa6-dfc3-46d7-99e8-2d82e20532d1",
   "metadata": {},
   "outputs": [
    {
     "name": "stdout",
     "output_type": "stream",
     "text": [
      "Trial 10 Complete [00h 00m 05s]\n",
      "val_mean_average_precision_metric: 0.5778356591860453\n",
      "\n",
      "Best val_mean_average_precision_metric So Far: 0.6070601940155029\n",
      "Total elapsed time: 00h 00m 37s\n",
      "INFO:tensorflow:Oracle triggered exit\n",
      "INFO:tensorflow:Oracle triggered exit\n",
      "INFO:tensorflow:Oracle triggered exit\n",
      "INFO:tensorflow:Oracle triggered exit\n",
      "INFO:tensorflow:Oracle triggered exit\n"
     ]
    }
   ],
   "source": [
    "def build_model(hp):\n",
    "    model = Sequential()\n",
    "    model.add(Dense(units=hp.Int('units_input', min_value=32, max_value=512, step=32), activation='relu', input_dim=X.shape[1]))\n",
    "    for i in range(hp.Int('num_hidden_layers', min_value=0, max_value=3)):\n",
    "        model.add(Dense(units=hp.Int(f'units_{i}', min_value=32, max_value=512, step=32), activation=hp.Choice(f'activation_{i}', values=['relu', 'sigmoid', 'tanh'])))\n",
    "    model.add(Dense(units=y.shape[1], activation='softmax'))\n",
    "    \n",
    "    model.compile(optimizer=Adam(learning_rate=hp.Float('learning_rate', min_value=1e-4, max_value=1e-2, sampling=\"log\")),\n",
    "                  loss='categorical_crossentropy',\n",
    "                  metrics=[tfr.keras.metrics.MeanAveragePrecisionMetric(topn=3)])\n",
    "    return model\n",
    "\n",
    "tuner = RandomSearch(build_model, \n",
    "                     objective=Objective(\"val_mean_average_precision_metric\", direction=\"max\"),\n",
    "                     max_trials=10,\n",
    "                     executions_per_trial=3,\n",
    "                     directory=f'C:/Users/Anes3/Documents/keras_tuner_dir_fold',\n",
    "                     project_name=f'my_hyperparameter_search_fold'\n",
    ")\n",
    "\n",
    "# Define the cross-validation object\n",
    "cv = StratifiedKFold(n_splits=5, shuffle=True, random_state=0)\n",
    "\n",
    "# Run the hyperparameter search with cross-validation\n",
    "for train_index, test_index in cv.split(X, y.argmax(1)):\n",
    "    X_train, X_test = X.iloc[train_index], X.iloc[test_index]\n",
    "    y_train, y_test = y[train_index], y[test_index]\n",
    "\n",
    "    tuner.search(X_train, y_train, epochs=10, batch_size=32, validation_data=(X_test, y_test))"
   ]
  },
  {
   "cell_type": "code",
   "execution_count": null,
   "id": "18dc3b39-d977-47de-a9f6-e493acd540e4",
   "metadata": {},
   "outputs": [
    {
     "name": "stdout",
     "output_type": "stream",
     "text": [
      "Epoch 1/15\n",
      "30/30 [==============================] - 1s 7ms/step - loss: 2.3839 - mean_average_precision_metric_3: 0.2369 - val_loss: 2.3602 - val_mean_average_precision_metric_3: 0.2682\n",
      "Epoch 2/15\n",
      "30/30 [==============================] - 0s 2ms/step - loss: 2.2815 - mean_average_precision_metric_3: 0.3900 - val_loss: 2.2483 - val_mean_average_precision_metric_3: 0.3976\n",
      "Epoch 3/15\n",
      "30/30 [==============================] - 0s 2ms/step - loss: 2.1794 - mean_average_precision_metric_3: 0.4331 - val_loss: 2.1586 - val_mean_average_precision_metric_3: 0.4514\n",
      "Epoch 4/15\n",
      "30/30 [==============================] - 0s 2ms/step - loss: 2.0746 - mean_average_precision_metric_3: 0.4802 - val_loss: 2.0703 - val_mean_average_precision_metric_3: 0.4913\n",
      "Epoch 5/15\n",
      "30/30 [==============================] - 0s 2ms/step - loss: 1.9735 - mean_average_precision_metric_3: 0.5132 - val_loss: 1.9691 - val_mean_average_precision_metric_3: 0.5599\n",
      "Epoch 6/15\n",
      "30/30 [==============================] - 0s 2ms/step - loss: 1.8894 - mean_average_precision_metric_3: 0.5370 - val_loss: 1.8823 - val_mean_average_precision_metric_3: 0.5894\n",
      "Epoch 7/15\n",
      "30/30 [==============================] - 0s 2ms/step - loss: 1.8076 - mean_average_precision_metric_3: 0.5553 - val_loss: 1.8048 - val_mean_average_precision_metric_3: 0.5877\n",
      "Epoch 8/15\n",
      "30/30 [==============================] - 0s 2ms/step - loss: 1.7663 - mean_average_precision_metric_3: 0.5604 - val_loss: 1.7464 - val_mean_average_precision_metric_3: 0.6189\n",
      "Epoch 9/15\n",
      "30/30 [==============================] - 0s 2ms/step - loss: 1.7118 - mean_average_precision_metric_3: 0.5786 - val_loss: 1.6814 - val_mean_average_precision_metric_3: 0.6389\n",
      "Epoch 10/15\n",
      "30/30 [==============================] - 0s 2ms/step - loss: 1.6814 - mean_average_precision_metric_3: 0.5890 - val_loss: 1.6696 - val_mean_average_precision_metric_3: 0.6285\n",
      "Epoch 11/15\n",
      "30/30 [==============================] - 0s 2ms/step - loss: 1.5942 - mean_average_precision_metric_3: 0.6194 - val_loss: 1.6191 - val_mean_average_precision_metric_3: 0.6372\n",
      "Epoch 12/15\n",
      "30/30 [==============================] - 0s 2ms/step - loss: 1.5991 - mean_average_precision_metric_3: 0.6166 - val_loss: 1.5925 - val_mean_average_precision_metric_3: 0.6319\n",
      "Epoch 13/15\n",
      "WARNING:tensorflow:Your input ran out of data; interrupting training. Make sure that your dataset or generator can generate at least `steps_per_epoch * epochs` batches (in this case, 450 batches). You may need to use the repeat() function when building your dataset.\n",
      "30/30 [==============================] - 0s 1ms/step - loss: 0.0000e+00 - mean_average_precision_metric_3: 0.0000e+00 - val_loss: 1.5925 - val_mean_average_precision_metric_3: 0.6319\n"
     ]
    }
   ],
   "source": [
    "# Get the best hyperparameters and model\n",
    "best_hps = tuner.get_best_hyperparameters(num_trials=1)[0]\n",
    "model = tuner.hypermodel.build(best_hps)\n",
    "\n",
    "# Train the final model on the entire dataset\n",
    "history = model.fit(X, y, epochs=15, batch_size=32, steps_per_epoch=X.shape[0]//32+1, validation_split=0.2)"
   ]
  },
  {
   "cell_type": "code",
   "execution_count": 16,
   "id": "5c5c3664-7679-43ff-a60c-a03970efdb2a",
   "metadata": {},
   "outputs": [
    {
     "name": "stdout",
     "output_type": "stream",
     "text": [
      "30/30 [==============================] - 0s 757us/step\n"
     ]
    }
   ],
   "source": [
    "y_pred_train = model.predict(X)\n",
    "sorted_pred_idx = np.argsort(-y_pred_train, axis=1)[:,:3]\n",
    "original_shape = sorted_pred_idx.shape\n",
    "top3_pred = encoder.inverse_transform(sorted_pred_idx.reshape(-1,1).ravel())\n",
    "top3_pred = top3_pred.reshape(original_shape)"
   ]
  },
  {
   "cell_type": "code",
   "execution_count": 17,
   "id": "3d12c6c0-33cc-4371-8d6e-9b4d5c38f694",
   "metadata": {},
   "outputs": [
    {
     "data": {
      "text/plain": [
       "0.636253"
      ]
     },
     "execution_count": 17,
     "metadata": {},
     "output_type": "execute_result"
    }
   ],
   "source": [
    "map3(y, y_pred_train)"
   ]
  },
  {
   "cell_type": "code",
   "execution_count": 28,
   "id": "c77bd468-d23b-4e99-9654-9709b3c77a09",
   "metadata": {},
   "outputs": [
    {
     "data": {
      "text/plain": [
       "0.7737226"
      ]
     },
     "execution_count": 28,
     "metadata": {},
     "output_type": "execute_result"
    }
   ],
   "source": [
    "map3(y, y_pred_train)"
   ]
  },
  {
   "cell_type": "markdown",
   "id": "c5234ee7-ae92-4754-8f98-19cc3eb79643",
   "metadata": {},
   "source": [
    "# Prediction"
   ]
  },
  {
   "cell_type": "code",
   "execution_count": 18,
   "id": "fdd81884-6bef-43c7-9d54-4ce89f6a46bd",
   "metadata": {},
   "outputs": [
    {
     "name": "stdout",
     "output_type": "stream",
     "text": [
      "10/10 [==============================] - 0s 665us/step\n"
     ]
    }
   ],
   "source": [
    "y_pred = model.predict(test)\n",
    "sorted_pred_idx = np.argsort(-y_pred, axis=1)[:,:3]\n",
    "original_shape = sorted_pred_idx.shape\n",
    "top3_pred = encoder.inverse_transform(sorted_pred_idx.reshape(-1,1).ravel())\n",
    "top3_pred = top3_pred.reshape(original_shape)"
   ]
  },
  {
   "cell_type": "markdown",
   "id": "a54c1dee-2041-4fb3-9aa9-6204428ccdcd",
   "metadata": {},
   "source": [
    "# Submission"
   ]
  },
  {
   "cell_type": "code",
   "execution_count": 19,
   "id": "01744e02-5e7a-4f3a-8780-35c9a97b88f3",
   "metadata": {},
   "outputs": [],
   "source": [
    "submission = pd.read_csv('sample_submission.csv')\n",
    "submission['prognosis'] = np.apply_along_axis(lambda x: np.array(' '.join(x), dtype=\"object\"), 1, top3_pred)\n",
    "submission.to_csv('submission_mlp_model_2.csv', columns=['id', 'prognosis'], index=False)"
   ]
  },
  {
   "cell_type": "code",
   "execution_count": null,
   "id": "b387206e-c929-450c-a8b7-c008b0691bf8",
   "metadata": {},
   "outputs": [],
   "source": []
  }
 ],
 "metadata": {
  "kernelspec": {
   "display_name": "Python 3 (ipykernel)",
   "language": "python",
   "name": "python3"
  },
  "language_info": {
   "codemirror_mode": {
    "name": "ipython",
    "version": 3
   },
   "file_extension": ".py",
   "mimetype": "text/x-python",
   "name": "python",
   "nbconvert_exporter": "python",
   "pygments_lexer": "ipython3",
   "version": "3.7.15"
  }
 },
 "nbformat": 4,
 "nbformat_minor": 5
}
